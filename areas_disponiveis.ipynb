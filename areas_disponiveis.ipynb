{
 "cells": [
  {
   "cell_type": "code",
   "execution_count": null,
   "metadata": {},
   "outputs": [],
   "source": [
    "import matplotlib.pyplot as plt\n",
    "import geopandas\n",
    "import numpy as np\n",
    "import seaborn as sns"
   ]
  },
  {
   "cell_type": "code",
   "execution_count": null,
   "metadata": {},
   "outputs": [],
   "source": [
    "import warnings\n",
    "warnings.filterwarnings('ignore')"
   ]
  },
  {
   "cell_type": "code",
   "execution_count": null,
   "metadata": {},
   "outputs": [],
   "source": [
    "import cartopy.crs as ccrs\n",
    "import numpy as np\n",
    "\n",
    "def scale_bar(ax, length=None, location=(0.5, 0.05), linewidth=3):\n",
    "    \"\"\"\n",
    "    ax is the axes to draw the scalebar on.\n",
    "    length is the length of the scalebar in km.\n",
    "    location is center of the scalebar in axis coordinates.\n",
    "    (ie. 0.5 is the middle of the plot)\n",
    "    linewidth is the thickness of the scalebar.\n",
    "    \"\"\"\n",
    "    #Get the limits of the axis in lat long\n",
    "    llx0, llx1, lly0, lly1 = ax.get_extent(ccrs.PlateCarree())\n",
    "    #Make tmc horizontally centred on the middle of the map,\n",
    "    #vertically at scale bar location\n",
    "    sbllx = (llx1 + llx0) / 2\n",
    "    sblly = lly0 + (lly1 - lly0) * location[1]\n",
    "    tmc = ccrs.TransverseMercator(sbllx, sblly)\n",
    "    #Get the extent of the plotted area in coordinates in metres\n",
    "    x0, x1, y0, y1 = ax.get_extent(tmc)\n",
    "    #Turn the specified scalebar location into coordinates in metres\n",
    "    sbx = x0 + (x1 - x0) * location[0]\n",
    "    sby = y0 + (y1 - y0) * location[1]\n",
    "\n",
    "    #Calculate a scale bar length if none has been given\n",
    "    #(Theres probably a more pythonic way of rounding the number but this works)\n",
    "    if not length: \n",
    "        length = (x1 - x0) / 5000 #in km\n",
    "        ndim = int(np.floor(np.log10(length))) #number of digits in number\n",
    "        length = round(length, -ndim) #round to 1sf\n",
    "        #Returns numbers starting with the list\n",
    "        def scale_number(x):\n",
    "            if str(x)[0] in ['1', '2', '5']: return int(x)        \n",
    "            else: return scale_number(x - 10 ** ndim)\n",
    "        length = scale_number(length) \n",
    "\n",
    "    #Generate the x coordinate for the ends of the scalebar\n",
    "    bar_xs = [sbx - length * 500, sbx + length * 500]\n",
    "    #Plot the scalebar\n",
    "    ax.plot(bar_xs, [sby, sby], transform=tmc, color='k', linewidth=linewidth)\n",
    "    #Plot the scalebar label\n",
    "    ax.text(sbx, sby, str(length) + ' km', transform=tmc,\n",
    "            horizontalalignment='center', verticalalignment='bottom')"
   ]
  },
  {
   "cell_type": "code",
   "execution_count": null,
   "metadata": {},
   "outputs": [],
   "source": [
    "sigmine = geopandas.read_file(\"deps/RS/RS.shp\")"
   ]
  },
  {
   "cell_type": "code",
   "execution_count": null,
   "metadata": {},
   "outputs": [],
   "source": [
    "mapa_sigmine = {\n",
    "'AREIA COMUM':'AREIA',\n",
    "'AREIA FLUVIAL':'AREIA',\n",
    "'AREIA QUARTZOSA':'AREIA',\n",
    "'AREIA DE FUNDIÇÃO':'AREIA',\n",
    "'AREIA INDUSTRIAL':'AREIA',\n",
    "'ARGILA CAULÍNICA':'ARGILA',\n",
    "'ARGILA REFRATÁRIA':'ARGILA',\n",
    "'ARGILA VERMELHA':'ARGILA',\n",
    "'ARENITO BETUMINOSO':'ARENITO',\n",
    "'ARGILA P/CER. VERMELH':'ARGILA',\n",
    "'BASALTO P/ BRITA':'BASALTO',\n",
    "'BASALTO P/ REVESTIMENTO':'BASALTO',\n",
    "'CALCÁRIO CALCÍTICO':'CALCÁRIO',\n",
    "'CALCÁRIO CONCHÍFERO':'CALCÁRIO',\n",
    "'CALCÁRIO DOLOMÍTICO':'CALCÁRIO',\n",
    "'CALCÁRIO INDUSTRIAL':'CALCÁRIO',\n",
    "'CARVÃO MINERAL':'CARVÃO',\n",
    "'COBRE NATIVO':'COBRE',\n",
    "'DIABÁSIO P/ BRITA':'DIABÁSIO',\n",
    "'MINÉRIO DE CHUMBO':'CHUMBO',\n",
    "'MINÉRIO DE COBRE':'COBRE',\n",
    "'MINÉRIO DE OURO':'OURO',\n",
    "'MINÉRIO DE TITÂNIO':'TITÂNIO',\n",
    "'MINÉRIO DE ZINCO':'ZINCO',\n",
    "'ÁGUA MINERAL ALC. BIC':'ÁGUA MINERAL',\n",
    "'ÁGUA POTÁVEL DE MESA':'ÁGUA MINERAL'\n",
    "}\n",
    "\n",
    "sigmine['SUBS'] = sigmine['SUBS'].replace(mapa_sigmine)"
   ]
  },
  {
   "cell_type": "code",
   "execution_count": null,
   "metadata": {},
   "outputs": [],
   "source": [
    "filtro_n_cad = sigmine['SUBS'] != 'DADO NÃO CADASTRADO'\n",
    "sigmine = sigmine[filtro_n_cad]"
   ]
  },
  {
   "cell_type": "code",
   "execution_count": null,
   "metadata": {},
   "outputs": [],
   "source": [
    "municipios = geopandas.read_file('deps/municipios/Municipios_IBGE.shp')"
   ]
  },
  {
   "cell_type": "code",
   "execution_count": null,
   "metadata": {},
   "outputs": [],
   "source": [
    "lista_municipio = ['Caxias do Sul', 'Santa Maria', 'Porto Alegre', 'Pelotas']\n",
    "def plot_municipios(municipios, lista_municipio, ax, c='black', delta=0.05):\n",
    "    x = []\n",
    "    y = []\n",
    "    for index, row in municipios.iterrows():\n",
    "        for m in lista_municipio:\n",
    "            if row['NOME'] == m.upper():\n",
    "                y.append(row['LATITUDESE'])\n",
    "                x.append(row['LONGITUDES'])\n",
    "    ax.scatter(x=x, y=y, marker='x', c=c)\n",
    "    for i, txt in enumerate(lista_municipio[::-1]):\n",
    "        ax.annotate(txt, (x[i]+delta, y[i]+delta), c=c)"
   ]
  },
  {
   "cell_type": "code",
   "execution_count": null,
   "metadata": {},
   "outputs": [],
   "source": [
    "fig, ax = plt.subplots(figsize=(12,12), subplot_kw={'projection': ccrs.PlateCarree()})\n",
    "municipios.plot(ax=ax, color='gainsboro', edgecolor='silver')\n",
    "\n",
    "f = sigmine['FASE']=='DISPONIBILIDADE'\n",
    "sigmine_disp = sigmine[f]\n",
    "\n",
    "subs_u = np.unique(sigmine_disp['SUBS'])\n",
    "\n",
    "colors = sns.color_palette(\"Set1\", len(subs_u))\n",
    "colors = ['#e6194b', '#3cb44b', '#ffe119', '#4363d8', '#f58231', '#911eb4', '#46f0f0', '#f032e6', '#bcf60c', '#fabebe', '#008080', '#e6beff', '#9a6324', '#fffac8', '#800000', '#aaffc3', '#808000', '#ffd8b1', '#000075', '#808080', '#ffffff', '#000000']    \n",
    "ax.set_prop_cycle('color', colors)\n",
    "\n",
    "for s in subs_u:\n",
    "    f_s = sigmine_disp['SUBS'] == s\n",
    "    sigmine_subs = sigmine_disp[f_s]\n",
    "    \n",
    "    x = []\n",
    "    y = []\n",
    "    for idx, row in sigmine_subs.iterrows():\n",
    "        i = row['geometry'].centroid\n",
    "        x.append(i.x)\n",
    "        y.append(i.y)\n",
    "\n",
    "    ax.scatter(x, y, label=s)\n",
    "\n",
    "gl = ax.gridlines(crs=ccrs.PlateCarree(), draw_labels=True, linewidth=1, color='gray', alpha=0.5, linestyle='--')\n",
    "\n",
    "#x, y, arrow_length = 0.04, 0.12, 0.1\n",
    "#ax.annotate('N', xy=(x, y), xytext=(x, y-arrow_length),\n",
    "#arrowprops=dict(facecolor='black', width=5, headwidth=15),\n",
    "#ha='center', va='center', fontsize=12,\n",
    "#xycoords=ax.transAxes)\n",
    "\n",
    "#scale_bar(ax, 100, location=(0.5,0.01))\n",
    "\n",
    "plot_municipios(municipios, lista_municipio, ax, c='gray', delta=0.05)\n",
    "\n",
    "ax.set_title('ÁREAS DISPONÍVEIS', loc='center', fontsize='14')\n",
    "plt.legend(bbox_to_anchor=(1.04, 1), edgecolor = 'white', fontsize='14', title='SUBSTÂNCIAS:', title_fontsize='14', loc='upper left')\n",
    "\n",
    "plt.savefig(\"imagens/areas_disponiveis.png\", bbox_inches='tight', facecolor='white', dpi = 300)"
   ]
  },
  {
   "cell_type": "code",
   "execution_count": null,
   "metadata": {},
   "outputs": [],
   "source": []
  }
 ],
 "metadata": {
  "interpreter": {
   "hash": "8e0c6cb7bc90b57d44b06d75db20d7f18eef67464bbf665b44327389cc5bd62a"
  },
  "kernelspec": {
   "display_name": "Python 3",
   "language": "python",
   "name": "python3"
  },
  "language_info": {
   "codemirror_mode": {
    "name": "ipython",
    "version": 3
   },
   "file_extension": ".py",
   "mimetype": "text/x-python",
   "name": "python",
   "nbconvert_exporter": "python",
   "pygments_lexer": "ipython3",
   "version": "3.8.11"
  }
 },
 "nbformat": 4,
 "nbformat_minor": 2
}
