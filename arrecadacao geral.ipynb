{
 "cells": [
  {
   "cell_type": "code",
   "execution_count": null,
   "metadata": {},
   "outputs": [],
   "source": [
    "import matplotlib.pyplot as plt\n",
    "import matplotlib\n",
    "import geopandas\n",
    "import numpy as np\n",
    "import pandas as pd\n",
    "import seaborn as sns"
   ]
  },
  {
   "cell_type": "code",
   "execution_count": null,
   "metadata": {},
   "outputs": [],
   "source": [
    "import warnings\n",
    "warnings.filterwarnings('ignore')"
   ]
  },
  {
   "cell_type": "code",
   "execution_count": null,
   "metadata": {},
   "outputs": [],
   "source": [
    "import cartopy.crs as ccrs\n",
    "import numpy as np\n",
    "\n",
    "def scale_bar(ax, length=None, location=(0.5, 0.05), linewidth=3):\n",
    "    \"\"\"\n",
    "    ax is the axes to draw the scalebar on.\n",
    "    length is the length of the scalebar in km.\n",
    "    location is center of the scalebar in axis coordinates.\n",
    "    (ie. 0.5 is the middle of the plot)\n",
    "    linewidth is the thickness of the scalebar.\n",
    "    \"\"\"\n",
    "    #Get the limits of the axis in lat long\n",
    "    llx0, llx1, lly0, lly1 = ax.get_extent(ccrs.PlateCarree())\n",
    "    #Make tmc horizontally centred on the middle of the map,\n",
    "    #vertically at scale bar location\n",
    "    sbllx = (llx1 + llx0) / 2\n",
    "    sblly = lly0 + (lly1 - lly0) * location[1]\n",
    "    tmc = ccrs.TransverseMercator(sbllx, sblly)\n",
    "    #Get the extent of the plotted area in coordinates in metres\n",
    "    x0, x1, y0, y1 = ax.get_extent(tmc)\n",
    "    #Turn the specified scalebar location into coordinates in metres\n",
    "    sbx = x0 + (x1 - x0) * location[0]\n",
    "    sby = y0 + (y1 - y0) * location[1]\n",
    "\n",
    "    #Calculate a scale bar length if none has been given\n",
    "    #(Theres probably a more pythonic way of rounding the number but this works)\n",
    "    if not length: \n",
    "        length = (x1 - x0) / 5000 #in km\n",
    "        ndim = int(np.floor(np.log10(length))) #number of digits in number\n",
    "        length = round(length, -ndim) #round to 1sf\n",
    "        #Returns numbers starting with the list\n",
    "        def scale_number(x):\n",
    "            if str(x)[0] in ['1', '2', '5']: return int(x)        \n",
    "            else: return scale_number(x - 10 ** ndim)\n",
    "        length = scale_number(length) \n",
    "\n",
    "    #Generate the x coordinate for the ends of the scalebar\n",
    "    bar_xs = [sbx - length * 500, sbx + length * 500]\n",
    "    #Plot the scalebar\n",
    "    ax.plot(bar_xs, [sby, sby], transform=tmc, color='k', linewidth=linewidth)\n",
    "    #Plot the scalebar label\n",
    "    ax.text(sbx, sby, str(length) + ' km', transform=tmc,\n",
    "            horizontalalignment='center', verticalalignment='bottom')"
   ]
  },
  {
   "cell_type": "code",
   "execution_count": null,
   "metadata": {},
   "outputs": [],
   "source": [
    "municipios = geopandas.read_file('deps/municipios/Municipios_IBGE.shp')"
   ]
  },
  {
   "cell_type": "code",
   "execution_count": null,
   "metadata": {},
   "outputs": [],
   "source": [
    "municipios.head()"
   ]
  },
  {
   "cell_type": "code",
   "execution_count": null,
   "metadata": {},
   "outputs": [],
   "source": [
    "producao = pd.read_excel(\"deps/Arrecadacao_2020.xlsx\", index_col=0)\n",
    "producao = producao.fillna(0)"
   ]
  },
  {
   "cell_type": "code",
   "execution_count": null,
   "metadata": {},
   "outputs": [],
   "source": [
    "mapa_arrecadacao = {\n",
    "'AREIA FLUVIAL':'AREIA',\n",
    "'AREIA QUARTZOSA':'AREIA',\n",
    "'AREIA FLUVIA':'AREIA',\n",
    "'BASALTO P/ BRITA':'BASALTO',\n",
    "'BASALTO P/ REVESTIMENTO':'BASALTO',\n",
    "'CALCÁRIO CALCÍTICO':'CALCÁRIO',\n",
    "'CALCÁRIO DOLOMÍTICO':'CALCÁRIO',\n",
    "'CALCÁRIO INDUSTRIAL':'CALCÁRIO',\n",
    "'CARVÃO MINERAL':'CARVÃO',\n",
    "}"
   ]
  },
  {
   "cell_type": "code",
   "execution_count": null,
   "metadata": {},
   "outputs": [],
   "source": [
    "for i in producao.columns:\n",
    "    for j in mapa_arrecadacao:\n",
    "        if i == j:\n",
    "            producao[mapa_arrecadacao[j]] = producao[mapa_arrecadacao[j]] + producao[mapa_arrecadacao[i]]\n",
    "            producao.drop(i, inplace=True, axis=1)"
   ]
  },
  {
   "cell_type": "code",
   "execution_count": null,
   "metadata": {},
   "outputs": [],
   "source": [
    "producao.head()"
   ]
  },
  {
   "cell_type": "code",
   "execution_count": null,
   "metadata": {},
   "outputs": [],
   "source": [
    "producao['TOTAL'] = producao.sum(axis=1)"
   ]
  },
  {
   "cell_type": "code",
   "execution_count": null,
   "metadata": {},
   "outputs": [],
   "source": [
    "for idx, row in producao.iterrows():\n",
    "    if row[\"TOTAL\"] != 0:\n",
    "        print(idx, row[\"TOTAL\"]/1000)"
   ]
  },
  {
   "cell_type": "code",
   "execution_count": null,
   "metadata": {},
   "outputs": [],
   "source": [
    "municipios['arrecadacao'] = 0\n",
    "for index, row in producao.iterrows():\n",
    "    for index1, row1 in municipios.iterrows():\n",
    "        if index.upper() == row1['NOME']:\n",
    "            municipios.loc[index1, 'arrecadacao'] = row['TOTAL']"
   ]
  },
  {
   "cell_type": "code",
   "execution_count": null,
   "metadata": {},
   "outputs": [],
   "source": [
    "_ = plt.hist(municipios['arrecadacao'], cumulative=False, bins=50)"
   ]
  },
  {
   "cell_type": "code",
   "execution_count": null,
   "metadata": {},
   "outputs": [],
   "source": [
    "np.max(municipios['arrecadacao'])"
   ]
  },
  {
   "cell_type": "code",
   "execution_count": null,
   "metadata": {},
   "outputs": [],
   "source": [
    "municipios['ccode'] = float('nan')"
   ]
  },
  {
   "cell_type": "code",
   "execution_count": null,
   "metadata": {},
   "outputs": [],
   "source": [
    "for idx, v in enumerate(municipios['arrecadacao']):\n",
    "    if v==0:\n",
    "        municipios.loc[idx, 'ccode'] = 0\n",
    "    if v > 0 and v < 1000:\n",
    "        municipios.loc[idx, 'ccode'] = 1\n",
    "    elif v >= 1000 and v < 2000:\n",
    "        municipios.loc[idx, 'ccode'] = 2\n",
    "    elif v >= 2000 and v < 4000:\n",
    "        municipios.loc[idx, 'ccode']= 3\n",
    "    elif v >= 4000 and v < 10000:\n",
    "        municipios.loc[idx, 'ccode'] = 4\n",
    "    elif v >= 10000 and v < 50000:\n",
    "        municipios.loc[idx, 'ccode'] = 5\n",
    "    elif v >= 50000 and v < 1000000:\n",
    "        municipios.loc[idx, 'ccode'] = 6\n",
    "    elif v >= 1000000 and v < 6000000:\n",
    "        municipios.loc[idx, 'ccode'] = 7\n",
    "    elif v >= 6000000 and v < np.max(municipios['arrecadacao'])+1:\n",
    "        municipios.loc[idx, 'ccode'] = 8"
   ]
  },
  {
   "cell_type": "code",
   "execution_count": null,
   "metadata": {},
   "outputs": [],
   "source": [
    "#for i in municipios['ccode']:\n",
    "#    print(i)"
   ]
  },
  {
   "cell_type": "code",
   "execution_count": null,
   "metadata": {},
   "outputs": [],
   "source": [
    "legenda = [\n",
    "    'R$0',\n",
    "    'entre 0 e 1.000',\n",
    "    'entre 1.000 e 2.000',\n",
    "    'entre 2.000 e 4.000',\n",
    "    'entre 4.000 e 10.000',\n",
    "    'entre 10.000 e 50.000',\n",
    "    'entre 50.000 e 1.000.000',\n",
    "    'entre 1.000.000 e 6.000.000',\n",
    "    'entre 6.000.000 e 9.626.218',\n",
    "]"
   ]
  },
  {
   "cell_type": "code",
   "execution_count": null,
   "metadata": {},
   "outputs": [],
   "source": [
    "lista_municipio = ['Caxias do Sul', 'Santa Maria', 'Porto Alegre', 'Pelotas']\n",
    "def plot_municipios(municipios, lista_municipio, ax, c='black', delta=0.05):\n",
    "    x = []\n",
    "    y = []\n",
    "    for index, row in municipios.iterrows():\n",
    "        for m in lista_municipio:\n",
    "            if row['NOME'] == m.upper():\n",
    "                y.append(row['LATITUDESE'])\n",
    "                x.append(row['LONGITUDES'])\n",
    "    ax.scatter(x=x, y=y, marker='x', c=c)\n",
    "    for i, txt in enumerate(lista_municipio[::-1]):\n",
    "        ax.annotate(txt, (x[i]+delta, y[i]+delta), c=c)"
   ]
  },
  {
   "cell_type": "code",
   "execution_count": null,
   "metadata": {},
   "outputs": [],
   "source": [
    "from mpl_toolkits.axes_grid1 import make_axes_locatable\n",
    "from matplotlib import colors, cm\n",
    "\n",
    "cmap = cm.get_cmap('Spectral_r', 9)\n",
    "colorscale = cmap\n",
    "\n",
    "fig, ax = plt.subplots(figsize=(12,12), subplot_kw={'projection': ccrs.PlateCarree()})\n",
    "municipios.plot(ax=ax, column='ccode', edgecolor=None, legend=False, cmap=colorscale)\n",
    "\n",
    "divider = make_axes_locatable(ax)\n",
    "ax_cb = divider.new_horizontal(size=\"5%\", pad=0.5, axes_class=plt.Axes)\n",
    "vmax = municipios['ccode'].values.max()\n",
    "vmin = municipios['ccode'].values.min()\n",
    "norm = matplotlib.colors.Normalize(vmin=vmin,vmax=vmax)\n",
    "mappable = plt.cm.ScalarMappable(cmap=colorscale, norm=norm)\n",
    "fig.add_axes(ax_cb)\n",
    "labels = [0.45,1.3,2.2,3.1,4,4.9,5.75,6.65,7.5]\n",
    "cbar = fig.colorbar(mappable, cax=ax_cb, ticks=labels)\n",
    "cbar.ax.set_yticklabels(legenda)\n",
    "\n",
    "gl = ax.gridlines(crs=ccrs.PlateCarree(), draw_labels=True, linewidth=1, color='gray', alpha=0.5, linestyle='--')\n",
    "\n",
    "#x, y, arrow_length = 0.04, 0.12, 0.1\n",
    "#ax.annotate('N', xy=(x, y), xytext=(x, y-arrow_length),\n",
    "#arrowprops=dict(facecolor='black', width=5, headwidth=15),\n",
    "#ha='center', va='center', fontsize=12,\n",
    "#xycoords=ax.transAxes)\n",
    "\n",
    "#scale_bar(ax, 100, location=(0.5,0.01))\n",
    "\n",
    "plot_municipios(municipios, lista_municipio, ax, c='black', delta=0.05)\n",
    "\n",
    "ax.set_title('ARRECADAÇÂO CFEM em R$', loc='center', fontsize='14')\n",
    "plt.savefig('imagens/arrecadacao.png', bbox_inches='tight', facecolor='white', dpi = 300, bbox_extra_artists=([ax]))"
   ]
  },
  {
   "cell_type": "code",
   "execution_count": null,
   "metadata": {},
   "outputs": [],
   "source": [
    "idh = pd.read_csv('deps/idh_rs.csv', encoding='latin1', delimiter=';')"
   ]
  },
  {
   "cell_type": "code",
   "execution_count": null,
   "metadata": {},
   "outputs": [],
   "source": [
    "idh['cfem'] = float('nan')"
   ]
  },
  {
   "cell_type": "code",
   "execution_count": null,
   "metadata": {},
   "outputs": [],
   "source": [
    "idh['idh'] = np.where(idh['idh']=='-', float('nan'), idh['idh'])"
   ]
  },
  {
   "cell_type": "code",
   "execution_count": null,
   "metadata": {},
   "outputs": [],
   "source": [
    "idh['idh'] = pd.to_numeric(idh['idh'])"
   ]
  },
  {
   "cell_type": "code",
   "execution_count": null,
   "metadata": {},
   "outputs": [],
   "source": [
    "idh.head()"
   ]
  },
  {
   "cell_type": "code",
   "execution_count": null,
   "metadata": {},
   "outputs": [],
   "source": [
    "producao.head()"
   ]
  },
  {
   "cell_type": "code",
   "execution_count": null,
   "metadata": {},
   "outputs": [],
   "source": [
    "for idx, row in producao.iterrows():\n",
    "    municipio_cfem = idx\n",
    "    #print(idx)\n",
    "    for idx1, row1 in idh.iterrows():\n",
    "        municipio_idh = row1['municipio']\n",
    "        \n",
    "        if municipio_cfem == municipio_idh:\n",
    "            idh.loc[idx1, 'cfem'] = row['TOTAL']"
   ]
  },
  {
   "cell_type": "code",
   "execution_count": null,
   "metadata": {},
   "outputs": [],
   "source": [
    "idh = idh.dropna()"
   ]
  },
  {
   "cell_type": "code",
   "execution_count": null,
   "metadata": {},
   "outputs": [],
   "source": [
    "idh.head()"
   ]
  },
  {
   "cell_type": "code",
   "execution_count": null,
   "metadata": {},
   "outputs": [],
   "source": [
    "ma = np.nanmax(idh['idh'])\n",
    "mi = np.nanmin(idh['idh'])"
   ]
  },
  {
   "cell_type": "code",
   "execution_count": null,
   "metadata": {},
   "outputs": [],
   "source": [
    "xt = np.linspace(mi,ma, 10)"
   ]
  },
  {
   "cell_type": "code",
   "execution_count": null,
   "metadata": {},
   "outputs": [],
   "source": [
    "from sklearn.linear_model import LinearRegression\n",
    "\n",
    "model = LinearRegression()\n",
    "model.fit(idh['idh'].values.reshape(-1, 1), idh['cfem'].values.reshape(-1, 1))\n",
    "\n",
    "r_sq = model.score(idh['idh'].values.reshape(-1, 1), idh['cfem'].values.reshape(-1, 1))\n",
    "print('coefficient of determination:', r_sq)\n",
    "\n",
    "print('intercept:', model.intercept_)\n",
    "print('slope:', model.coef_)"
   ]
  },
  {
   "cell_type": "code",
   "execution_count": null,
   "metadata": {},
   "outputs": [],
   "source": [
    "def yval(x, a, b):\n",
    "    return a*x+b"
   ]
  },
  {
   "cell_type": "code",
   "execution_count": null,
   "metadata": {},
   "outputs": [],
   "source": [
    "fig, ax = plt.subplots(figsize=(10,5))\n",
    "plt.scatter(idh['idh'], idh['cfem'])\n",
    "#plt.plot([mi,yval(mi,model.coef_ ,model.intercept_)], [ma,yval(ma,model.coef_ ,model.intercept_)], c='red')\n",
    "plt.title('Relação CFEMxIDH')\n",
    "plt.ylabel('CFEM')\n",
    "#plt.ylim([0,0.2*1e7])\n",
    "plt.xlabel('IDH')\n",
    "plt.xticks(xt)\n",
    "plt.grid(linestyle='--')\n",
    "#plt.show()\n",
    "plt.savefig('imagens/cfem_idh.png', bbox_inches='tight', facecolor='white', dpi = 300)"
   ]
  },
  {
   "cell_type": "code",
   "execution_count": null,
   "metadata": {},
   "outputs": [],
   "source": []
  }
 ],
 "metadata": {
  "interpreter": {
   "hash": "8e0c6cb7bc90b57d44b06d75db20d7f18eef67464bbf665b44327389cc5bd62a"
  },
  "kernelspec": {
   "display_name": "Python 3.7.3 64-bit ('drh': venv)",
   "name": "python3"
  },
  "language_info": {
   "codemirror_mode": {
    "name": "ipython",
    "version": 3
   },
   "file_extension": ".py",
   "mimetype": "text/x-python",
   "name": "python",
   "nbconvert_exporter": "python",
   "pygments_lexer": "ipython3",
   "version": "3.8.11"
  }
 },
 "nbformat": 4,
 "nbformat_minor": 4
}
