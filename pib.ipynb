{
 "cells": [
  {
   "cell_type": "code",
   "execution_count": null,
   "metadata": {},
   "outputs": [],
   "source": [
    "import matplotlib.pyplot as plt"
   ]
  },
  {
   "cell_type": "code",
   "execution_count": null,
   "metadata": {},
   "outputs": [],
   "source": [
    "pib = [84498, 102454, 111662, 114410, 124767, 143490, 161120, 175142, 205803, 226373, 245487, 286665, 309927, 333418, 356025, 366984]\n",
    "ie = [131, 199, 251, 302, 166, 204, 254, 234, 403, 410, 406, 545, 620, 536, 460, 365]\n",
    "s =  [52843, 61006, 66317, 73579, 81238, 94379, 104140, 111395, 131141, 146050, 163800, 188436, 208567, 224708, 237992, 251321]\n",
    "agro = [ 9210, 14082, 12759, 8144, 10540, 13035, 15836, 15580, 17163, 18877, 16294, 28784, 28905, 31271, 36270, 33612]\n",
    "ano = [2002, 2003, 2004, 2005, 2006, 2007, 2008, 2009, 2010, 2011, 2012, 2013, 2014, 2015, 2016, 2017]"
   ]
  },
  {
   "cell_type": "code",
   "execution_count": null,
   "metadata": {},
   "outputs": [],
   "source": [
    "fig, ax = plt.subplots(figsize=(10,5))\n",
    "plt.plot(ano, pib, label='Total')\n",
    "plt.plot(ano, ie, label='Indústria extrativa')\n",
    "plt.plot(ano, s, label='Serviços')\n",
    "plt.plot(ano, agro, label='Agropecuária')\n",
    "\n",
    "plt.bar(ano, pib, alpha=0.5)\n",
    "plt.bar(ano, ie, alpha=0.5)\n",
    "areas = [ie, s, agro]\n",
    "for z in areas:\n",
    "    for a, b, c in zip(pib, z, ano):\n",
    "        p = b/a*100\n",
    "        p = str(round(p, 2))\n",
    "        plt.text(c-0.3, b+50, p+'%', fontsize=8)\n",
    "plt.yscale('log')\n",
    "plt.xticks(ano)\n",
    "plt.xlim(min(ano)-0.5, max(ano)+0.5)\n",
    "plt.xlabel('Ano')\n",
    "plt.ylabel('Milhões de reais (escala logarítmica)')\n",
    "plt.grid(linestyle='--')\n",
    "plt.legend(bbox_to_anchor=(1.04, 1), edgecolor = 'white', loc='upper left')\n",
    "plt.title('Relação PIB total - PIB da indústria extrativa no RS')\n",
    "plt.savefig(\"imagens/pib.png\", bbox_inches='tight', facecolor='white', dpi = 300)\n",
    "plt.show()"
   ]
  },
  {
   "cell_type": "code",
   "execution_count": null,
   "metadata": {},
   "outputs": [],
   "source": []
  }
 ],
 "metadata": {
  "kernelspec": {
   "display_name": "Python 3.8.8 64-bit ('sema': conda)",
   "name": "python388jvsc74a57bd02051d2d2435176948318f56ef856977d9961981e0f672717979902c2ceebe880"
  },
  "language_info": {
   "codemirror_mode": {
    "name": "ipython",
    "version": 3
   },
   "file_extension": ".py",
   "mimetype": "text/x-python",
   "name": "python",
   "nbconvert_exporter": "python",
   "pygments_lexer": "ipython3",
   "version": "3.8.8"
  }
 },
 "nbformat": 4,
 "nbformat_minor": 4
}
