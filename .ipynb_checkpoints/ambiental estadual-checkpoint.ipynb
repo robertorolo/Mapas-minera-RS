{
 "cells": [
  {
   "cell_type": "code",
   "execution_count": 1,
   "metadata": {},
   "outputs": [],
   "source": [
    "import matplotlib.pyplot as plt\n",
    "import geopandas\n",
    "import numpy as np"
   ]
  },
  {
   "cell_type": "code",
   "execution_count": 2,
   "metadata": {},
   "outputs": [],
   "source": [
    "import warnings\n",
    "warnings.filterwarnings('ignore')"
   ]
  },
  {
   "cell_type": "code",
   "execution_count": 3,
   "metadata": {},
   "outputs": [],
   "source": [
    "#epsg = 'EPSG:3857'\n",
    "epsg = \"EPSG:4674\" #sirgas 2000\n",
    "#epsg = 'EPSG:3395' #world mercator"
   ]
  },
  {
   "cell_type": "code",
   "execution_count": 4,
   "metadata": {},
   "outputs": [],
   "source": [
    "import cartopy.crs as ccrs\n",
    "import numpy as np\n",
    "\n",
    "def scale_bar(ax, length=None, location=(0.5, 0.05), linewidth=3):\n",
    "    \"\"\"\n",
    "    ax is the axes to draw the scalebar on.\n",
    "    length is the length of the scalebar in km.\n",
    "    location is center of the scalebar in axis coordinates.\n",
    "    (ie. 0.5 is the middle of the plot)\n",
    "    linewidth is the thickness of the scalebar.\n",
    "    \"\"\"\n",
    "    #Get the limits of the axis in lat long\n",
    "    llx0, llx1, lly0, lly1 = ax.get_extent(ccrs.PlateCarree())\n",
    "    #Make tmc horizontally centred on the middle of the map,\n",
    "    #vertically at scale bar location\n",
    "    sbllx = (llx1 + llx0) / 2\n",
    "    sblly = lly0 + (lly1 - lly0) * location[1]\n",
    "    tmc = ccrs.TransverseMercator(sbllx, sblly)\n",
    "    #Get the extent of the plotted area in coordinates in metres\n",
    "    x0, x1, y0, y1 = ax.get_extent(tmc)\n",
    "    #Turn the specified scalebar location into coordinates in metres\n",
    "    sbx = x0 + (x1 - x0) * location[0]\n",
    "    sby = y0 + (y1 - y0) * location[1]\n",
    "\n",
    "    #Calculate a scale bar length if none has been given\n",
    "    #(Theres probably a more pythonic way of rounding the number but this works)\n",
    "    if not length: \n",
    "        length = (x1 - x0) / 5000 #in km\n",
    "        ndim = int(np.floor(np.log10(length))) #number of digits in number\n",
    "        length = round(length, -ndim) #round to 1sf\n",
    "        #Returns numbers starting with the list\n",
    "        def scale_number(x):\n",
    "            if str(x)[0] in ['1', '2', '5']: return int(x)        \n",
    "            else: return scale_number(x - 10 ** ndim)\n",
    "        length = scale_number(length) \n",
    "\n",
    "    #Generate the x coordinate for the ends of the scalebar\n",
    "    bar_xs = [sbx - length * 500, sbx + length * 500]\n",
    "    #Plot the scalebar\n",
    "    ax.plot(bar_xs, [sby, sby], transform=tmc, color='k', linewidth=linewidth)\n",
    "    #Plot the scalebar label\n",
    "    ax.text(sbx, sby, str(length) + ' km', transform=tmc,\n",
    "            horizontalalignment='center', verticalalignment='bottom')"
   ]
  },
  {
   "cell_type": "code",
   "execution_count": 5,
   "metadata": {},
   "outputs": [],
   "source": [
    "municipios = geopandas.read_file('municipios/Municipios_IBGE.shp')"
   ]
  },
  {
   "cell_type": "code",
   "execution_count": 6,
   "metadata": {},
   "outputs": [],
   "source": [
    "#municipios.head()"
   ]
  },
  {
   "cell_type": "code",
   "execution_count": 7,
   "metadata": {},
   "outputs": [],
   "source": [
    "brasil = geopandas.read_file('Brasil/UFEBRASIL.shp')\n",
    "brasil = brasil.to_crs({'init': epsg})"
   ]
  },
  {
   "cell_type": "code",
   "execution_count": 8,
   "metadata": {},
   "outputs": [],
   "source": [
    "rs = brasil[brasil['NM_ESTADO'] == 'RIO GRANDE DO SUL']"
   ]
  },
  {
   "cell_type": "code",
   "execution_count": 9,
   "metadata": {},
   "outputs": [],
   "source": [
    "municipios = municipios.to_crs({'init': epsg})"
   ]
  },
  {
   "cell_type": "code",
   "execution_count": 10,
   "metadata": {},
   "outputs": [],
   "source": [
    "lista_municipio = ['Caxias do Sul', 'Santa Maria', 'Porto Alegre', 'Pelotas']\n",
    "def plot_municipios(municipios, lista_municipio, ax, c='black', delta=0.05):\n",
    "    x = []\n",
    "    y = []\n",
    "    for index, row in municipios.iterrows():\n",
    "        for m in lista_municipio:\n",
    "            if row['NOME'] == m.upper():\n",
    "                y.append(row['LATITUDESE'])\n",
    "                x.append(row['LONGITUDES'])\n",
    "    ax.scatter(x=x, y=y, marker='x', c=c)\n",
    "    for i, txt in enumerate(lista_municipio[::-1]):\n",
    "        ax.annotate(txt, (x[i]+delta, y[i]+delta), c=c)"
   ]
  },
  {
   "cell_type": "code",
   "execution_count": 11,
   "metadata": {},
   "outputs": [],
   "source": [
    "muni_sup_veget = ['Rosario do Sul', 'Alegrete', 'Dom Pedrito', 'Encruzilhada do Sul', 'Santana do Livramento', 'Uruguaiana', 'Sao Gabriel', 'Bage', 'Piratini', 'Sao Borja', 'Itaqui', 'Jaguarao', 'Sao Francisco de Assis', 'Cachoeira do Sul', 'Santiago', 'Cacequi', 'Santa Maria', 'Macambara', 'Tupancireta']\n",
    "muni_sup_veget_df = geopandas.GeoDataFrame()\n",
    "muni_sup_veget_df.crs = epsg\n",
    "\n",
    "for index, row in municipios.iterrows():\n",
    "    for m in muni_sup_veget:\n",
    "        if row['NOME'] == m.upper():\n",
    "            #print(row['NOME'])\n",
    "            muni_sup_veget_df = muni_sup_veget_df.append(row)\n",
    "            \n",
    "#muni_sup_veget_df = muni_sup_veget_df.to_crs({'init': epsg})"
   ]
  },
  {
   "cell_type": "code",
   "execution_count": 12,
   "metadata": {},
   "outputs": [],
   "source": [
    "ucs = geopandas.read_file(\"ucs/ucstodas.shp\")\n",
    "ucs.crs = epsg\n",
    "ucs = ucs.to_crs({'init': epsg})"
   ]
  },
  {
   "cell_type": "code",
   "execution_count": 13,
   "metadata": {},
   "outputs": [],
   "source": [
    "uc_mun = geopandas.read_file(\"uc_munip/Limites_UCs_Municipais_RS-polygon.shp\")\n",
    "uc_mun.crs = epsg\n",
    "uc_mun = uc_mun.to_crs({'init': epsg})"
   ]
  },
  {
   "cell_type": "code",
   "execution_count": 14,
   "metadata": {},
   "outputs": [],
   "source": [
    "uc_mun_dic = {\n",
    "    'APA':'Área de Proteção Ambiental',\n",
    "    'ARIE':'Área de Relevante Interesse Ecológico',\n",
    "    'MoNa':'Monumento Natural',\n",
    "    'PNM':'Parque',\n",
    "    'REBIO':'Reserva Biológica',\n",
    "    'Rebio':'Reserva Biológica',\n",
    "    'RVS':'Refúgio de Vida Silvestre',\n",
    "}"
   ]
  },
  {
   "cell_type": "code",
   "execution_count": 15,
   "metadata": {},
   "outputs": [],
   "source": [
    "uc_mun['tipo'] = 'N/D'\n",
    "for idx, row in uc_mun.iterrows():\n",
    "    cod = row['Name'].split()[0]\n",
    "    for i in uc_mun_dic:\n",
    "        if cod == i:\n",
    "            uc_mun.loc[idx, 'tipo'] = uc_mun_dic[i]"
   ]
  },
  {
   "cell_type": "code",
   "execution_count": 16,
   "metadata": {},
   "outputs": [
    {
     "data": {
      "text/html": [
       "<div>\n",
       "<style scoped>\n",
       "    .dataframe tbody tr th:only-of-type {\n",
       "        vertical-align: middle;\n",
       "    }\n",
       "\n",
       "    .dataframe tbody tr th {\n",
       "        vertical-align: top;\n",
       "    }\n",
       "\n",
       "    .dataframe thead th {\n",
       "        text-align: right;\n",
       "    }\n",
       "</style>\n",
       "<table border=\"1\" class=\"dataframe\">\n",
       "  <thead>\n",
       "    <tr style=\"text-align: right;\">\n",
       "      <th></th>\n",
       "      <th>Name</th>\n",
       "      <th>descriptio</th>\n",
       "      <th>altitudeMo</th>\n",
       "      <th>Field_1</th>\n",
       "      <th>FID</th>\n",
       "      <th>Nome</th>\n",
       "      <th>geometry</th>\n",
       "      <th>tipo</th>\n",
       "    </tr>\n",
       "  </thead>\n",
       "  <tbody>\n",
       "    <tr>\n",
       "      <th>0</th>\n",
       "      <td>APA CARAA</td>\n",
       "      <td>None</td>\n",
       "      <td>clampToGround</td>\n",
       "      <td>APA CARAA</td>\n",
       "      <td>1</td>\n",
       "      <td>APA CARAA</td>\n",
       "      <td>POLYGON ((-50.22714 -29.70899, -50.22722 -29.7...</td>\n",
       "      <td>Área de Proteção Ambiental</td>\n",
       "    </tr>\n",
       "    <tr>\n",
       "      <th>1</th>\n",
       "      <td>APA Lagoa de Itapeva</td>\n",
       "      <td>None</td>\n",
       "      <td>clampToGround</td>\n",
       "      <td>APA Lagoa de Itapeva</td>\n",
       "      <td>2</td>\n",
       "      <td>APA Lagoa de Itapeva</td>\n",
       "      <td>POLYGON ((-49.83519 -29.42322, -49.83230 -29.4...</td>\n",
       "      <td>Área de Proteção Ambiental</td>\n",
       "    </tr>\n",
       "    <tr>\n",
       "      <th>2</th>\n",
       "      <td>ARIE Henrique Luiz Roessler</td>\n",
       "      <td>None</td>\n",
       "      <td>clampToGround</td>\n",
       "      <td>ARIE Henrique Luiz Roessler</td>\n",
       "      <td>5</td>\n",
       "      <td>ARIE Henrique Luiz Roessler</td>\n",
       "      <td>POLYGON ((-51.11193 -29.68986, -51.11185 -29.6...</td>\n",
       "      <td>Área de Relevante Interesse Ecológico</td>\n",
       "    </tr>\n",
       "    <tr>\n",
       "      <th>3</th>\n",
       "      <td>ARIE SÃ£o Bernardo</td>\n",
       "      <td>None</td>\n",
       "      <td>clampToGround</td>\n",
       "      <td>ARIE SÃ£o Bernardo</td>\n",
       "      <td>6</td>\n",
       "      <td>ARIE SÃ£o Bernardo</td>\n",
       "      <td>POLYGON ((-50.58332 -29.45431, -50.57990 -29.4...</td>\n",
       "      <td>Área de Relevante Interesse Ecológico</td>\n",
       "    </tr>\n",
       "    <tr>\n",
       "      <th>4</th>\n",
       "      <td>MoNa Palanquinho</td>\n",
       "      <td>None</td>\n",
       "      <td>clampToGround</td>\n",
       "      <td>MoNa Palanquinho</td>\n",
       "      <td>7</td>\n",
       "      <td>MoNa Palanquinho</td>\n",
       "      <td>POLYGON ((-50.79837 -28.88322, -50.79823 -28.8...</td>\n",
       "      <td>Monumento Natural</td>\n",
       "    </tr>\n",
       "  </tbody>\n",
       "</table>\n",
       "</div>"
      ],
      "text/plain": [
       "                          Name descriptio     altitudeMo  \\\n",
       "0                    APA CARAA       None  clampToGround   \n",
       "1         APA Lagoa de Itapeva       None  clampToGround   \n",
       "2  ARIE Henrique Luiz Roessler       None  clampToGround   \n",
       "3           ARIE SÃ£o Bernardo       None  clampToGround   \n",
       "4             MoNa Palanquinho       None  clampToGround   \n",
       "\n",
       "                       Field_1 FID                         Nome  \\\n",
       "0                    APA CARAA   1                    APA CARAA   \n",
       "1         APA Lagoa de Itapeva   2         APA Lagoa de Itapeva   \n",
       "2  ARIE Henrique Luiz Roessler   5  ARIE Henrique Luiz Roessler   \n",
       "3           ARIE SÃ£o Bernardo   6           ARIE SÃ£o Bernardo   \n",
       "4             MoNa Palanquinho   7             MoNa Palanquinho   \n",
       "\n",
       "                                            geometry  \\\n",
       "0  POLYGON ((-50.22714 -29.70899, -50.22722 -29.7...   \n",
       "1  POLYGON ((-49.83519 -29.42322, -49.83230 -29.4...   \n",
       "2  POLYGON ((-51.11193 -29.68986, -51.11185 -29.6...   \n",
       "3  POLYGON ((-50.58332 -29.45431, -50.57990 -29.4...   \n",
       "4  POLYGON ((-50.79837 -28.88322, -50.79823 -28.8...   \n",
       "\n",
       "                                    tipo  \n",
       "0             Área de Proteção Ambiental  \n",
       "1             Área de Proteção Ambiental  \n",
       "2  Área de Relevante Interesse Ecológico  \n",
       "3  Área de Relevante Interesse Ecológico  \n",
       "4                      Monumento Natural  "
      ]
     },
     "execution_count": 16,
     "metadata": {},
     "output_type": "execute_result"
    }
   ],
   "source": [
    "uc_mun.head()"
   ]
  },
  {
   "cell_type": "code",
   "execution_count": 17,
   "metadata": {},
   "outputs": [],
   "source": [
    "#ucs.head()"
   ]
  },
  {
   "cell_type": "code",
   "execution_count": 18,
   "metadata": {},
   "outputs": [],
   "source": [
    "ucs_cat = np.unique(ucs['CATEGORI3'])"
   ]
  },
  {
   "cell_type": "code",
   "execution_count": 19,
   "metadata": {},
   "outputs": [],
   "source": [
    "ti = geopandas.read_file(\"ti_sirgas/ti_sirgasPolygon.shp\")\n",
    "ti = ti.to_crs({'init': epsg})\n",
    "ti = ti[ti['uf_sigla'] == 'RS']"
   ]
  },
  {
   "cell_type": "code",
   "execution_count": 20,
   "metadata": {},
   "outputs": [],
   "source": [
    "#ti.head()"
   ]
  },
  {
   "cell_type": "code",
   "execution_count": 21,
   "metadata": {},
   "outputs": [],
   "source": [
    "qui = geopandas.read_file(\"Áreas de Quilombolas_RS/Áreas de Quilombolas_RS.shp\")\n",
    "qui = qui.to_crs({'init': epsg})"
   ]
  },
  {
   "cell_type": "code",
   "execution_count": 22,
   "metadata": {},
   "outputs": [],
   "source": [
    "ass = geopandas.read_file(\"Assentamento Brasil_RS/Assentamento Brasil_RS.shp\")\n",
    "ass = ass.to_crs({'init': epsg})"
   ]
  },
  {
   "cell_type": "code",
   "execution_count": 23,
   "metadata": {},
   "outputs": [],
   "source": [
    "#qui.head()"
   ]
  },
  {
   "cell_type": "code",
   "execution_count": 24,
   "metadata": {},
   "outputs": [],
   "source": [
    "fl = geopandas.read_file(\"florestas/florestaspublicas.shp\")\n",
    "fl.crs=epsg\n",
    "fl = fl.to_crs({'init': epsg})"
   ]
  },
  {
   "cell_type": "code",
   "execution_count": 25,
   "metadata": {},
   "outputs": [],
   "source": [
    "#fl.head()"
   ]
  },
  {
   "cell_type": "code",
   "execution_count": 26,
   "metadata": {},
   "outputs": [],
   "source": [
    "#removendo nao RS\n",
    "areas_amb = [ucs]\n",
    "\n",
    "for a in areas_amb:\n",
    "    for idx, row in a.iterrows():\n",
    "        p = row['geometry'].centroid\n",
    "        if rs.iloc[0]['geometry'].contains(p):\n",
    "            pass\n",
    "        else:\n",
    "            a.drop(idx, inplace=True)"
   ]
  },
  {
   "cell_type": "code",
   "execution_count": 27,
   "metadata": {},
   "outputs": [],
   "source": [
    "areas_amb_concat = geopandas.pd.concat([ucs, uc_mun, ti, qui])"
   ]
  },
  {
   "cell_type": "code",
   "execution_count": 28,
   "metadata": {},
   "outputs": [],
   "source": [
    "#1° = 111 km\n",
    "buffer = 3/111\n",
    "buffer10 = 10/111\n",
    "\n",
    "b10 = areas_amb_concat.buffer(buffer10, resolution=16)\n",
    "b10 = geopandas.GeoDataFrame(geometry=b10)\n",
    "\n",
    "overlay2 = geopandas.overlay(rs, b10, how='intersection')"
   ]
  },
  {
   "cell_type": "code",
   "execution_count": 29,
   "metadata": {},
   "outputs": [],
   "source": [
    "sigmine = geopandas.read_file(\"RS/RS.shp\")\n",
    "sigmine = sigmine.to_crs({'init': epsg})\n",
    "sigmine['ANM'] = 'ANM'"
   ]
  },
  {
   "cell_type": "code",
   "execution_count": 30,
   "metadata": {},
   "outputs": [],
   "source": [
    "#sigmine.head()"
   ]
  },
  {
   "cell_type": "code",
   "execution_count": 31,
   "metadata": {},
   "outputs": [],
   "source": [
    "filtro_req1 = sigmine['FASE'] != 'REQUERIMENTO DE PESQUISA'\n",
    "filtro_req2 = sigmine['FASE'] != 'REQUERIMENTO DE LICENCIAMENTO'\n",
    "filtro_req3 = sigmine['FASE'] != 'REQUERIMENTO DE LAVRA GARIMPEIRA'\n",
    "filtro_req4 = sigmine['FASE'] != 'REQUERIMENTO DE REGISTRO DE EXTRAÇÃO'\n",
    "\n",
    "sigmine = sigmine[filtro_req1 & filtro_req2 & filtro_req3 & filtro_req4]"
   ]
  },
  {
   "cell_type": "code",
   "execution_count": null,
   "metadata": {},
   "outputs": [],
   "source": [
    "#contagem geral de processos\n",
    "municipios['contagem'] = 0\n",
    "for idx, row in municipios.iterrows():\n",
    "    nome = row['NOME']\n",
    "    count = 0\n",
    "    for idx1, row1 in sigmine.iterrows():\n",
    "        if row['geometry'].contains(row1['geometry'].centroid):\n",
    "            count = count + 1\n",
    "            sigmine.drop(idx1, inplace=True)\n",
    "    municipios.loc[idx, 'contagem'] = count"
   ]
  },
  {
   "cell_type": "code",
   "execution_count": null,
   "metadata": {},
   "outputs": [],
   "source": [
    "from mpl_toolkits.axes_grid1 import make_axes_locatable\n",
    "import matplotlib.patches as mpatches\n",
    "\n",
    "fig, ax = plt.subplots(figsize=(16,16), subplot_kw={'projection': ccrs.PlateCarree()})\n",
    "\n",
    "municipios.plot(ax=ax, column='contagem', legend=False, cmap='Blues', edgecolor='silver')\n",
    "\n",
    "divider = make_axes_locatable(ax)\n",
    "ax_cb = divider.new_horizontal(size=\"5%\", pad=0.5, axes_class=plt.Axes)\n",
    "vmax = municipios['contagem'].values.max()\n",
    "mappable = plt.cm.ScalarMappable(cmap='Blues', norm=plt.Normalize(vmin=0, vmax=100))\n",
    "fig.add_axes(ax_cb)\n",
    "cbar = fig.colorbar(mappable, cax=ax_cb, ticks=[0, 50, 100])\n",
    "cbar.ax.set_yticklabels(['Baixo', 'Médio', 'Alto'])\n",
    "\n",
    "areas_ind = [ti, qui, ass]\n",
    "label = ['Terras indígenas', 'Quilombos', 'Assentamentos',]\n",
    "colors = ['#e6194b', '#3cb44b', '#ffe119', '#4363d8', '#f58231', '#911eb4', '#46f0f0', '#f032e6', '#bcf60c', '#fabebe', '#008080', '#e6beff', '#9a6324', '#fffac8', '#800000', '#aaffc3', '#808000', '#ffd8b1', '#000075', '#808080', '#ffffff', '#000000']\n",
    "alpha=[1,1,1,]\n",
    "\n",
    "hand = []\n",
    "cc = 0\n",
    "for i, a in enumerate(areas_ind):\n",
    "    a.plot(ax=ax, color = colors[cc], hatch='////', alpha=alpha[i])\n",
    "\n",
    "    h = mpatches.Patch(facecolor=colors[cc], alpha=alpha[i], hatch='////',label=label[i])\n",
    "    hand.append(h)\n",
    "    cc = cc+1\n",
    "        \n",
    "for idx, c in enumerate(ucs_cat):\n",
    "    f = ucs['CATEGORI3'] == c\n",
    "    f1 = uc_mun['tipo'] == c\n",
    "    uc_mun_plot = uc_mun[f1]\n",
    "    ucs_plot = ucs[f]\n",
    "    ucs_plot.plot(ax=ax, color = colors[cc], hatch='////')\n",
    "    uc_mun_plot.plot(ax=ax, color = colors[cc], hatch='////')\n",
    "    h = mpatches.Patch(facecolor=colors[cc],alpha=alpha[i],hatch='////',label=c)\n",
    "    hand.append(h)\n",
    "    cc = cc+1\n",
    "\n",
    "#h = mpatches.Patch(facecolor='white',alpha=1, edgecolor='blue', label='Buffer 10 km')\n",
    "#hand.append(h)\n",
    "#overlay2.plot(ax=ax, facecolor=(0,0,0,0), edgecolor=(0,0,1,0.5))\n",
    "\n",
    "lgd1 = plt.legend(handles = hand, bbox_to_anchor=(-22, 1), edgecolor = 'white', fontsize='14', title='ÁREAS:', title_fontsize='14', loc='upper right')\n",
    "               \n",
    "scale_bar(ax, 100, location=(0.5,0.01))\n",
    "\n",
    "gl = ax.gridlines(crs=ccrs.PlateCarree(), draw_labels=True, linewidth=1, color='gray', alpha=0.5, linestyle='--')\n",
    "\n",
    "x, y, arrow_length = 0.04, 0.12, 0.08\n",
    "ax.annotate('N', xy=(x, y), xytext=(x, y-arrow_length),\n",
    "arrowprops=dict(facecolor='black', width=5, headwidth=15),\n",
    "ha='center', va='center', fontsize=12,\n",
    "xycoords=ax.transAxes)\n",
    "\n",
    "plot_municipios(municipios, lista_municipio, ax, c='black', delta=0.05)\n",
    "\n",
    "ax.set_title('ZONEAMENTO AMBIENTAL E POTENCIAL PARA MINERAÇÃO', loc='center', fontsize='14')\n",
    "\n",
    "plt.savefig(\"imagens/ambiental.png\", bbox_inches='tight', facecolor='white', dpi = 300, bbox_extra_artists=([ax, lgd1]))"
   ]
  }
 ],
 "metadata": {
  "kernelspec": {
   "display_name": "Python 3",
   "language": "python",
   "name": "python3"
  },
  "language_info": {
   "codemirror_mode": {
    "name": "ipython",
    "version": 3
   },
   "file_extension": ".py",
   "mimetype": "text/x-python",
   "name": "python",
   "nbconvert_exporter": "python",
   "pygments_lexer": "ipython3",
   "version": "3.8.5"
  }
 },
 "nbformat": 4,
 "nbformat_minor": 4
}
