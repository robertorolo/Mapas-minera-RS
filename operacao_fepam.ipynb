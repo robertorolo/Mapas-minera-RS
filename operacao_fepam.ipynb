{
 "cells": [
  {
   "cell_type": "code",
   "execution_count": null,
   "metadata": {},
   "outputs": [],
   "source": [
    "import matplotlib.pyplot as plt\n",
    "import geopandas\n",
    "import pandas as pd\n",
    "import numpy as np\n",
    "import seaborn as sns"
   ]
  },
  {
   "cell_type": "code",
   "execution_count": null,
   "metadata": {},
   "outputs": [],
   "source": [
    "import warnings\n",
    "warnings.filterwarnings('ignore')"
   ]
  },
  {
   "cell_type": "code",
   "execution_count": null,
   "metadata": {},
   "outputs": [],
   "source": [
    "import cartopy.crs as ccrs\n",
    "import numpy as np\n",
    "\n",
    "def scale_bar(ax, length=None, location=(0.5, 0.05), linewidth=3):\n",
    "    \"\"\"\n",
    "    ax is the axes to draw the scalebar on.\n",
    "    length is the length of the scalebar in km.\n",
    "    location is center of the scalebar in axis coordinates.\n",
    "    (ie. 0.5 is the middle of the plot)\n",
    "    linewidth is the thickness of the scalebar.\n",
    "    \"\"\"\n",
    "    #Get the limits of the axis in lat long\n",
    "    llx0, llx1, lly0, lly1 = ax.get_extent(ccrs.PlateCarree())\n",
    "    #Make tmc horizontally centred on the middle of the map,\n",
    "    #vertically at scale bar location\n",
    "    sbllx = (llx1 + llx0) / 2\n",
    "    sblly = lly0 + (lly1 - lly0) * location[1]\n",
    "    tmc = ccrs.TransverseMercator(sbllx, sblly)\n",
    "    #Get the extent of the plotted area in coordinates in metres\n",
    "    x0, x1, y0, y1 = ax.get_extent(tmc)\n",
    "    #Turn the specified scalebar location into coordinates in metres\n",
    "    sbx = x0 + (x1 - x0) * location[0]\n",
    "    sby = y0 + (y1 - y0) * location[1]\n",
    "\n",
    "    #Calculate a scale bar length if none has been given\n",
    "    #(Theres probably a more pythonic way of rounding the number but this works)\n",
    "    if not length: \n",
    "        length = (x1 - x0) / 5000 #in km\n",
    "        ndim = int(np.floor(np.log10(length))) #number of digits in number\n",
    "        length = round(length, -ndim) #round to 1sf\n",
    "        #Returns numbers starting with the list\n",
    "        def scale_number(x):\n",
    "            if str(x)[0] in ['1', '2', '5']: return int(x)        \n",
    "            else: return scale_number(x - 10 ** ndim)\n",
    "        length = scale_number(length) \n",
    "\n",
    "    #Generate the x coordinate for the ends of the scalebar\n",
    "    bar_xs = [sbx - length * 500, sbx + length * 500]\n",
    "    #Plot the scalebar\n",
    "    ax.plot(bar_xs, [sby, sby], transform=tmc, color='k', linewidth=linewidth)\n",
    "    #Plot the scalebar label\n",
    "    ax.text(sbx, sby, str(length) + ' km', transform=tmc,\n",
    "            horizontalalignment='center', verticalalignment='bottom')"
   ]
  },
  {
   "cell_type": "code",
   "execution_count": null,
   "metadata": {},
   "outputs": [],
   "source": [
    "municipios = geopandas.read_file('deps/municipios/Municipios_IBGE.shp')"
   ]
  },
  {
   "cell_type": "code",
   "execution_count": null,
   "metadata": {},
   "outputs": [],
   "source": [
    "lista_municipio = ['Caxias do Sul', 'Santa Maria', 'Porto Alegre', 'Pelotas']\n",
    "def plot_municipios(municipios, lista_municipio, ax, c='black', delta=0.05):\n",
    "    x = []\n",
    "    y = []\n",
    "    for index, row in municipios.iterrows():\n",
    "        for m in lista_municipio:\n",
    "            if row['NOME'] == m.upper():\n",
    "                y.append(row['LATITUDESE'])\n",
    "                x.append(row['LONGITUDES'])\n",
    "    ax.scatter(x=x, y=y, marker='x', c=c)\n",
    "    for i, txt in enumerate(lista_municipio[::-1]):\n",
    "        ax.annotate(txt, (x[i]+delta, y[i]+delta), c=c)"
   ]
  },
  {
   "cell_type": "code",
   "execution_count": null,
   "metadata": {},
   "outputs": [],
   "source": [
    "calcario_caulim = pd.read_excel('deps/LO_FEPAM/LOsMINERACAO.xlsx', sheet_name='530 01 CALCARIO CAULIM...')\n",
    "carvao_trufa_e_combustiveis_minerais = pd.read_excel('deps/LO_FEPAM/LOsMINERACAO.xlsx', sheet_name='530 02 CARVAO TURFA...')\n",
    "gemas = pd.read_excel('deps/LO_FEPAM/LOsMINERACAO.xlsx', sheet_name='530 04 GEMAS')\n",
    "ornamentais = pd.read_excel('deps/LO_FEPAM/LOsMINERACAO.xlsx', sheet_name='530 05 ROCHA ORNAMENTAL')\n",
    "const_civil_brit = pd.read_excel('deps/LO_FEPAM/LOsMINERACAO.xlsx', sheet_name='530 06 CONST CIVIL COM BRITAGEM')\n",
    "const_civil_nbrit = pd.read_excel('deps/LO_FEPAM/LOsMINERACAO.xlsx', sheet_name='530 08 CONST CIVIL SEM BRITAGEM')\n",
    "saibro = pd.read_excel('deps/LO_FEPAM/LOsMINERACAO.xlsx', sheet_name='530 10 SAIBRO')\n",
    "argila = pd.read_excel('deps/LO_FEPAM/LOsMINERACAO.xlsx', sheet_name='530 11 ARGILA')\n",
    "areia_hidrico = pd.read_excel('deps/LO_FEPAM/LOsMINERACAO.xlsx', sheet_name='530 12 AREIA EM REC HIDR SUPERF')\n",
    "areia_n_hidrico = pd.read_excel('deps/LO_FEPAM/LOsMINERACAO.xlsx', sheet_name='530 13 AREIA FORA REC HID SUP')\n",
    "#areia_ind = pd.read_excel('deps/LO_FEPAM/LOsMINERACAO.xlsx', sheet_name='530 15 AREIA EM BARRA SEDIMENTO')\n",
    "aguas = pd.read_excel('deps/LO_FEPAM/LOsMINERACAO.xlsx', sheet_name='2730 00 AGUA MINERAL')"
   ]
  },
  {
   "cell_type": "code",
   "execution_count": null,
   "metadata": {},
   "outputs": [],
   "source": [
    "dfs = {\n",
    "'Calcário e caulim':calcario_caulim,\n",
    "'Carvão, turfa e combustíveis minerais':carvao_trufa_e_combustiveis_minerais,\n",
    "'Gemas':gemas,\n",
    "'Ornamentais':ornamentais,\n",
    "'Construção civil britados':const_civil_brit,\n",
    "'Construção civil não britados':const_civil_nbrit,\n",
    "'Saibro':saibro,\n",
    "'Argila':argila,\n",
    "'Areia em recurso hídrico':areia_hidrico,\n",
    "'Areia fora de recurso hídrico':areia_n_hidrico,\n",
    "#'Areia industrial':areia_ind,\n",
    "'Águas minerais':aguas\n",
    "}"
   ]
  },
  {
   "cell_type": "code",
   "execution_count": null,
   "metadata": {},
   "outputs": [],
   "source": [
    "grupos = {'Materiais para construção civil':['Calcário e caulim', 'Construção civil britados', 'Construção civil não britados', 'Saibro', 'Argila', 'Areia em recurso hídrico', 'Areia fora de recurso hídrico', ],\n",
    "          'Insumos agrícolas': ['Calcário e caulim'],\n",
    "          'Recursos energéticos': ['Carvão, turfa e combustíveis minerais'],\n",
    "          'Minerais metálicos': [],\n",
    "          'Indústria cerâmica': ['Argila', 'Calcário e caulim'],\n",
    "          'Rochas ornamentais': ['Ornamentais'],\n",
    "          'Pedras preciosas':['Gemas'],\n",
    "          'Águas minerais': ['Águas minerais']\n",
    "         }"
   ]
  },
  {
   "cell_type": "code",
   "execution_count": null,
   "metadata": {},
   "outputs": [],
   "source": [
    "for grupo in grupos:\n",
    "    fig, ax = plt.subplots(figsize=(12,12), subplot_kw={'projection': ccrs.PlateCarree()})\n",
    "    municipios.plot(ax=ax, color='gainsboro', edgecolor='silver')\n",
    "\n",
    "    gl = ax.gridlines(crs=ccrs.PlateCarree(), draw_labels=True,\n",
    "                  linewidth=1, color='gray', alpha=0.5, linestyle='--')\n",
    "    #gl.xlabels_top = False\n",
    "    \n",
    "    #colors\n",
    "    #colormap = plt.cm.Set1\n",
    "    #colors = [colormap(i) for i in np.linspace(0, 1., len(gp['SUBS'].unique()))]\n",
    "    colors = sns.color_palette(\"Set1\", 11)\n",
    "    colors = ['#e6194b', '#3cb44b', '#ffe119', '#4363d8', '#f58231', '#911eb4', '#46f0f0', '#f032e6', '#bcf60c', '#fabebe', '#008080', '#e6beff', '#9a6324', '#fffac8', '#800000', '#aaffc3', '#808000', '#ffd8b1', '#000075', '#808080', '#ffffff', '#000000']    \n",
    "    ax.set_prop_cycle('color', colors)\n",
    "        \n",
    "    for subs in grupos[grupo]:\n",
    "        print(subs)\n",
    "        ax.scatter(dfs[subs]['LONGITUDE'], dfs[subs]['LATITUDE'], label=subs)\n",
    "\n",
    "    #x, y, arrow_length = 0.04, 0.12, 0.1\n",
    "    #ax.annotate('N', xy=(x, y), xytext=(x, y-arrow_length),\n",
    "    #arrowprops=dict(facecolor='black', width=5, headwidth=15),\n",
    "    #ha='center', va='center', fontsize=12,\n",
    "    #xycoords=ax.transAxes)\n",
    "\n",
    "    #scale_bar(ax, 100, location=(0.5,0.01))\n",
    "    \n",
    "    plot_municipios(municipios, lista_municipio, ax, c='black', delta=0.05)\n",
    "\n",
    "    ax.set_title('MINAS EM OPERAÇÃO - {}'.format(grupo.upper()), loc='center', fontsize='14')\n",
    "    #fig.suptitle('Potencial - {}'.format(grupo), fontsize='14')\n",
    "    plt.legend(bbox_to_anchor=(1.04, 1), edgecolor = 'white', fontsize='14', title='SUBSTÂNCIAS:', title_fontsize='14', loc='upper left')\n",
    "    \n",
    "    #nome = mineral.replace('/', '')\n",
    "    plt.savefig('imagens/operacao_fepam/'+grupo+\".png\", bbox_inches='tight', facecolor='white', dpi = 300)\n",
    "    #plt.show()"
   ]
  },
  {
   "cell_type": "code",
   "execution_count": null,
   "metadata": {},
   "outputs": [],
   "source": []
  }
 ],
 "metadata": {
  "interpreter": {
   "hash": "8e0c6cb7bc90b57d44b06d75db20d7f18eef67464bbf665b44327389cc5bd62a"
  },
  "kernelspec": {
   "display_name": "Python 3",
   "language": "python",
   "name": "python3"
  },
  "language_info": {
   "codemirror_mode": {
    "name": "ipython",
    "version": 3
   },
   "file_extension": ".py",
   "mimetype": "text/x-python",
   "name": "python",
   "nbconvert_exporter": "python",
   "pygments_lexer": "ipython3",
   "version": "3.8.11"
  }
 },
 "nbformat": 4,
 "nbformat_minor": 4
}
