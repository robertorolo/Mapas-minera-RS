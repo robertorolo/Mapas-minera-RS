{
 "cells": [
  {
   "cell_type": "code",
   "execution_count": null,
   "metadata": {},
   "outputs": [],
   "source": [
    "import matplotlib.pyplot as plt\n",
    "import matplotlib\n",
    "import geopandas\n",
    "import numpy as np\n",
    "import pandas as pd\n",
    "import seaborn as sns"
   ]
  },
  {
   "cell_type": "code",
   "execution_count": null,
   "metadata": {},
   "outputs": [],
   "source": [
    "import warnings\n",
    "warnings.filterwarnings('ignore')"
   ]
  },
  {
   "cell_type": "code",
   "execution_count": null,
   "metadata": {},
   "outputs": [],
   "source": [
    "import cartopy.crs as ccrs\n",
    "import numpy as np\n",
    "\n",
    "def scale_bar(ax, length=None, location=(0.5, 0.05), linewidth=3):\n",
    "    \"\"\"\n",
    "    ax is the axes to draw the scalebar on.\n",
    "    length is the length of the scalebar in km.\n",
    "    location is center of the scalebar in axis coordinates.\n",
    "    (ie. 0.5 is the middle of the plot)\n",
    "    linewidth is the thickness of the scalebar.\n",
    "    \"\"\"\n",
    "    #Get the limits of the axis in lat long\n",
    "    llx0, llx1, lly0, lly1 = ax.get_extent(ccrs.PlateCarree())\n",
    "    #Make tmc horizontally centred on the middle of the map,\n",
    "    #vertically at scale bar location\n",
    "    sbllx = (llx1 + llx0) / 2\n",
    "    sblly = lly0 + (lly1 - lly0) * location[1]\n",
    "    tmc = ccrs.TransverseMercator(sbllx, sblly)\n",
    "    #Get the extent of the plotted area in coordinates in metres\n",
    "    x0, x1, y0, y1 = ax.get_extent(tmc)\n",
    "    #Turn the specified scalebar location into coordinates in metres\n",
    "    sbx = x0 + (x1 - x0) * location[0]\n",
    "    sby = y0 + (y1 - y0) * location[1]\n",
    "\n",
    "    #Calculate a scale bar length if none has been given\n",
    "    #(Theres probably a more pythonic way of rounding the number but this works)\n",
    "    if not length: \n",
    "        length = (x1 - x0) / 5000 #in km\n",
    "        ndim = int(np.floor(np.log10(length))) #number of digits in number\n",
    "        length = round(length, -ndim) #round to 1sf\n",
    "        #Returns numbers starting with the list\n",
    "        def scale_number(x):\n",
    "            if str(x)[0] in ['1', '2', '5']: return int(x)        \n",
    "            else: return scale_number(x - 10 ** ndim)\n",
    "        length = scale_number(length) \n",
    "\n",
    "    #Generate the x coordinate for the ends of the scalebar\n",
    "    bar_xs = [sbx - length * 500, sbx + length * 500]\n",
    "    #Plot the scalebar\n",
    "    ax.plot(bar_xs, [sby, sby], transform=tmc, color='k', linewidth=linewidth)\n",
    "    #Plot the scalebar label\n",
    "    ax.text(sbx, sby, str(length) + ' km', transform=tmc,\n",
    "            horizontalalignment='center', verticalalignment='bottom')"
   ]
  },
  {
   "cell_type": "code",
   "execution_count": null,
   "metadata": {},
   "outputs": [],
   "source": [
    "municipios = geopandas.read_file('deps/municipios/Municipios_IBGE.shp')"
   ]
  },
  {
   "cell_type": "code",
   "execution_count": null,
   "metadata": {},
   "outputs": [],
   "source": [
    "municipios.head()"
   ]
  },
  {
   "cell_type": "code",
   "execution_count": null,
   "metadata": {},
   "outputs": [],
   "source": [
    "producao = pd.read_excel(\"deps/Arrecadacao_2020.xlsx\", index_col=0)\n",
    "producao = producao.fillna(0)"
   ]
  },
  {
   "cell_type": "code",
   "execution_count": null,
   "metadata": {},
   "outputs": [],
   "source": [
    "producao.head(20)"
   ]
  },
  {
   "cell_type": "code",
   "execution_count": null,
   "metadata": {},
   "outputs": [],
   "source": [
    "mapa_arrecadacao = {\n",
    "'AREIA FLUVIAL':'AREIA',\n",
    "'AREIA QUARTZOSA':'AREIA',\n",
    "'AREIA FLUVIA':'AREIA',\n",
    "'BASALTO P/ BRITA':'BASALTO',\n",
    "'BASALTO P/ REVESTIMENTO':'BASALTO',\n",
    "'CALCÁRIO CALCÍTICO':'CALCÁRIO',\n",
    "'CALCÁRIO DOLOMÍTICO':'CALCÁRIO',\n",
    "'CALCÁRIO INDUSTRIAL':'CALCÁRIO',\n",
    "'CARVÃO MINERAL':'CARVÃO',\n",
    "}"
   ]
  },
  {
   "cell_type": "code",
   "execution_count": null,
   "metadata": {},
   "outputs": [],
   "source": [
    "for i in producao.columns:\n",
    "    for j in mapa_arrecadacao:\n",
    "        if i == j:\n",
    "            producao[mapa_arrecadacao[i]] = producao[j] + producao[mapa_arrecadacao[i]]\n",
    "            producao.drop(j, inplace=True, axis=1)"
   ]
  },
  {
   "cell_type": "code",
   "execution_count": null,
   "metadata": {},
   "outputs": [],
   "source": [
    "producao.head(20)"
   ]
  },
  {
   "cell_type": "code",
   "execution_count": null,
   "metadata": {},
   "outputs": [],
   "source": [
    "producao['CALCÁRIO'][producao['CALCÁRIO'] > 0]"
   ]
  },
  {
   "cell_type": "code",
   "execution_count": null,
   "metadata": {},
   "outputs": [],
   "source": [
    "for idx, row in producao.iterrows():\n",
    "    if row[\"CARVÃO\"] != 0:\n",
    "        print(idx, row[\"CARVÃO\"]/1000)"
   ]
  },
  {
   "cell_type": "code",
   "execution_count": null,
   "metadata": {},
   "outputs": [],
   "source": [
    "n_municipios = geopandas.GeoDataFrame(crs='EPSG:4326')\n",
    "for index, row in producao.iterrows():\n",
    "    for index1, row1 in municipios.iterrows():\n",
    "        if row1['Label_N'] == index:\n",
    "            n_municipios = n_municipios.append(row1)\n",
    "n_municipios.set_crs(epsg=4326, inplace=True)"
   ]
  },
  {
   "cell_type": "code",
   "execution_count": null,
   "metadata": {},
   "outputs": [],
   "source": [
    "n_municipios.head()"
   ]
  },
  {
   "cell_type": "code",
   "execution_count": null,
   "metadata": {},
   "outputs": [],
   "source": [
    "grupos = {'Materiais para construção civil':['AREIA', 'AREIA DE FUNDIÇÃO', 'AREIA QUARTZOSA', 'AREIA COMUM', 'AREIA FLUVIAL', 'ARENITO', 'ARGILA', 'ARGILA REFRATÁRIA', 'ARGILITO', 'BASALTO', 'BASALTO P/ BRITA', 'BENTONITA', 'CALCÁRIO', 'CALCÁRIO CALCÍTICO', 'CASCALHO', 'DIABÁSIO', 'DIABÁSIO P/ BRITA', 'GABRO', 'GNAISSE', 'GRANITO', 'QUARTZITO', 'RIÓLITO', 'SAIBRO', 'CALCITA', 'GIPSITA'],\n",
    "#'Insumos agrícolas': ['CALCÁRIO', 'CALCÁRIO DOLOMÍTICO', 'CALCÁRIO CALCÍTICO', 'CALCÁRIO CONCHÍFERO', 'CONCHAS CALCÁRIAS', 'PEDRA CALCÁRIA', 'CAULIM', 'DOLOMITO', 'FOSFATO', 'TALCO'],\n",
    "'Insumos agrícolas': ['CALCÁRIO'],\n",
    "'Recursos energéticos': ['ANTRACITO', 'ARENITO BETUMINOSO', 'CARVÃO MINERAL', 'CARVÃO', 'FOLHELHO BETUMINOSO', 'FOLHELHO PIROBETUMINOSO', 'LINHITO', 'ROCHA BETUMINOSA', 'SAPROPELITO', 'TURFA'],\n",
    "'Minerais metálicos': ['CASSITERITA', 'CHUMBO', 'COBRE', 'FERRO', 'ILMENITA', 'LIMONITA', 'MINÉRIO DE CHUMBO', 'MINÉRIO DE COBRE', 'MINÉRIO DE OURO', 'MINÉRIO DE TITÂNIO', 'MINÉRIO DE ZINCO', 'MOLIBDÊNIO', 'OURO', 'PRATA', 'TANTALITA', 'TITÂNIO'],\n",
    "'Indústria cerâmica': ['ARGILA', 'CALCÁRIO', 'ARGILA REFRATÁRIA', 'ARGILA VERMELHA', 'ARGILA CAULÍNICA', 'ARGILA P/CER. VERMELH', 'ARGILITO', 'BENTONITA', 'CAULIM', 'FILITO'],\n",
    "'Rochas ornamentais': ['ANORTOSITO', 'ARENITO', 'BASALTO', 'BASALTO P/ REVESTIMENTO', 'DIABÁSIO', 'GRANITO', 'GRANITO ORNAMENTAL', 'MÁMORE', 'QUARTZITO', 'RIÓLITO', 'SIENITO'],  \n",
    "'Pedras preciosas':['ÁGATA', 'ÁGUA MARINHA', 'AMETISTA', 'CALCEDÔNIA', 'CITRINO', 'GEMA', 'OPALA', 'QUARTZO'],\n",
    "'Águas minerais': ['ÁGUA MINERAL ALC. BIC', 'ÁGUA MINERAL', 'ÁGUA POTÁVEL DE MESA']\n",
    "         }"
   ]
  },
  {
   "cell_type": "code",
   "execution_count": null,
   "metadata": {},
   "outputs": [],
   "source": [
    "lista_municipio = ['Caxias do Sul', 'Santa Maria', 'Porto Alegre', 'Pelotas']\n",
    "def plot_municipios(municipios, lista_municipio, ax, c='black', delta=0.05):\n",
    "    x = []\n",
    "    y = []\n",
    "    for index, row in municipios.iterrows():\n",
    "        for m in lista_municipio:\n",
    "            if row['NOME'] == m.upper():\n",
    "                y.append(row['LATITUDESE'])\n",
    "                x.append(row['LONGITUDES'])\n",
    "    ax.scatter(x=x, y=y, marker='x', c=c)\n",
    "    for i, txt in enumerate(lista_municipio[::-1]):\n",
    "        ax.annotate(txt, (x[i]+delta, y[i]+delta), c=c)"
   ]
  },
  {
   "cell_type": "code",
   "execution_count": null,
   "metadata": {},
   "outputs": [],
   "source": [
    "x_pts = []\n",
    "y_pts = []\n",
    "\n",
    "geometrias = n_municipios['geometry'].to_crs(\"EPSG:4326\")\n",
    "for g in geometrias:\n",
    "    cent = g.centroid\n",
    "    x_pts.append(cent.x)\n",
    "    y_pts.append(cent.y)"
   ]
  },
  {
   "cell_type": "code",
   "execution_count": null,
   "metadata": {},
   "outputs": [],
   "source": [
    "minerais = producao.columns[1:]"
   ]
  },
  {
   "cell_type": "code",
   "execution_count": null,
   "metadata": {},
   "outputs": [],
   "source": [
    "minerais"
   ]
  },
  {
   "cell_type": "code",
   "execution_count": null,
   "metadata": {},
   "outputs": [],
   "source": [
    "norm = 0.0015"
   ]
  },
  {
   "cell_type": "code",
   "execution_count": null,
   "metadata": {},
   "outputs": [],
   "source": [
    "def which_bin(v, bin_edges, n_bins=5, norm=1):\n",
    "    size = None\n",
    "    if v == 0:\n",
    "        size = 0\n",
    "    else:\n",
    "        for i in range(n_bins):\n",
    "            limits = bin_edges[i:i+2]\n",
    "            if v >= limits[0] and v <= limits[1]:\n",
    "                size=np.mean(limits)\n",
    "    return size * norm"
   ]
  },
  {
   "cell_type": "code",
   "execution_count": null,
   "metadata": {},
   "outputs": [],
   "source": [
    "import numpy as np\n",
    "def create_legend(producao, n_bins=5, norm=1):\n",
    "    valores = producao.values.flatten()\n",
    "    hist, bin_edges = np.histogram(valores, bins=5)\n",
    "    bin_edges\n",
    "    legend = []\n",
    "    sizes = []\n",
    "    for i in range(n_bins):\n",
    "        limits = bin_edges[i:i+2]\n",
    "        s = np.mean(limits)\n",
    "        l = 'de {} a {}'.format(int(limits[0]/1000), int(limits[1]/1000))\n",
    "        legend.append(l)\n",
    "        sizes.append(s)\n",
    "    abs_leg = ['{}'.format(int(round(i/1000))) for i in sizes]\n",
    "    return abs_leg, np.array(sizes) * norm"
   ]
  },
  {
   "cell_type": "code",
   "execution_count": null,
   "metadata": {},
   "outputs": [],
   "source": [
    "from mpl_toolkits.axes_grid1 import make_axes_locatable\n",
    "\n",
    "for grupo in grupos:\n",
    "    \n",
    "    fig, ax = plt.subplots(figsize=(12,12), subplot_kw={'projection': ccrs.PlateCarree()})\n",
    "    municipios.plot(ax=ax, color='gainsboro', edgecolor='silver')\n",
    "    \n",
    "    colunas = grupos[grupo]\n",
    "    n_c = []\n",
    "    for i in colunas:\n",
    "        if i in list(producao.columns):\n",
    "            n_c.append(i)\n",
    "    \n",
    "    if len(n_c) == 0:\n",
    "        continue \n",
    "    \n",
    "    filtrado = producao[n_c]\n",
    "    l, ss = create_legend(filtrado, n_bins=5, norm=norm)\n",
    "    \n",
    "    #colors\n",
    "    #colormap = plt.cm.Set1\n",
    "    #colors = [colormap(i) for i in np.linspace(0, 1, len(n_c))]\n",
    "    #colors = sns.color_palette(\"Set2\", len(n_c))\n",
    "    colors = ['#e6194b', '#3cb44b', '#ffe119', '#4363d8', '#f58231', '#911eb4', '#46f0f0', '#f032e6', '#bcf60c', '#fabebe', '#008080', '#e6beff', '#9a6324', '#fffac8', '#800000', '#aaffc3', '#808000', '#ffd8b1', '#000075', '#808080', '#ffffff', '#000000']\n",
    "    ax.set_prop_cycle('color', colors)\n",
    "    \n",
    "    for mineral in filtrado.columns:    \n",
    "        #s = [which_bin(v=i, bin_edges=bin_edges, n_bins=5, norm=norm) for i in producao[mineral]]\n",
    "        s = producao[mineral] * norm\n",
    "        scatter = plt.scatter(x_pts, y_pts, alpha=0.8, s=s, label=mineral, linewidths=0)\n",
    "        \n",
    "    gl = ax.gridlines(crs=ccrs.PlateCarree(), draw_labels=True,\n",
    "                  linewidth=1, color='gray', alpha=0.5, linestyle='--')\n",
    "    #gl.xlabels_top = False\n",
    "\n",
    "    #x, y, arrow_length = 0.04, 0.12, 0.1\n",
    "    #ax.annotate('N', xy=(x, y), xytext=(x, y-arrow_length),\n",
    "    #arrowprops=dict(facecolor='black', width=5, headwidth=15),\n",
    "    #ha='center', va='center', fontsize=12,\n",
    "    #xycoords=ax.transAxes)\n",
    "\n",
    "    #scale_bar(ax, 100, location=(0.5,0.01))\n",
    "    \n",
    "    test = plt.scatter(x=np.ones(len(ss))*-54, y=np.ones(len(ss))*-30, s=ss, alpha=0)\n",
    "    handles, labels = test.legend_elements(prop=\"sizes\", alpha=0.6)\n",
    "    labels = l\n",
    "    kw = dict(prop=\"sizes\")\n",
    "    \n",
    "    lgd1 = ax.legend(bbox_to_anchor=(1.04, 1), edgecolor = 'white', fontsize='14', title='SUBSTÂNCIAS:', title_fontsize='14', loc='upper left')\n",
    "    for handle in lgd1.legendHandles:\n",
    "        handle.set_sizes([100.0])\n",
    "    lgd2 = ax.legend(handles, labels, labelspacing=4, handletextpad=2 , bbox_to_anchor=(-0.04, 1), edgecolor = 'white', fontsize='14', title=' MILHARES DE R$:', title_fontsize='14', loc='upper right')\n",
    "    nl = []\n",
    "    for i, handle in enumerate(lgd2.legendHandles):\n",
    "        handle._legmarker.set_alpha(1)\n",
    "        handle._legmarker.set_color('gainsboro')\n",
    "\n",
    "    plt.gca().add_artist(lgd1)\n",
    "    plt.gca().add_artist(lgd2)\n",
    "    \n",
    "    plot_municipios(municipios, lista_municipio, ax, c='black', delta=0.05)\n",
    "\n",
    "    ax.set_title('ARRECADAÇÂO CFEM- {}'.format(grupo.upper()), loc='center', fontsize='14')\n",
    "    nome = grupo.upper()\n",
    "    plt.savefig('imagens/arrecadacao/'+nome+\".png\", bbox_inches='tight', facecolor='white', dpi = 300, bbox_extra_artists=(lgd1,lgd2, ax))"
   ]
  },
  {
   "cell_type": "code",
   "execution_count": null,
   "metadata": {},
   "outputs": [],
   "source": [
    "alturas = np.array([np.sum(producao[a]) for a in producao.columns])\n",
    "nomes = np.array(list(producao.columns))\n",
    "inds = alturas.argsort()\n",
    "nomes = nomes[inds]\n",
    "alturas = alturas[inds]\n",
    "x = np.arange(len(nomes))\n",
    "plt.bar(x, alturas)\n",
    "plt.xticks(x, nomes, rotation='vertical')\n",
    "plt.ylabel('Arrecadação em R$')\n",
    "plt.title('Arrecadação CFEM por substância')\n",
    "plt.grid(alpha=0.3)\n",
    "plt.savefig(\"imagens/arrecadacao/barras.png\", bbox_inches='tight', facecolor='white', dpi = 300)"
   ]
  }
 ],
 "metadata": {
  "interpreter": {
   "hash": "8e0c6cb7bc90b57d44b06d75db20d7f18eef67464bbf665b44327389cc5bd62a"
  },
  "kernelspec": {
   "display_name": "Python 3.7.3 64-bit ('drh': venv)",
   "name": "python3"
  },
  "language_info": {
   "codemirror_mode": {
    "name": "ipython",
    "version": 3
   },
   "file_extension": ".py",
   "mimetype": "text/x-python",
   "name": "python",
   "nbconvert_exporter": "python",
   "pygments_lexer": "ipython3",
   "version": "3.8.11"
  }
 },
 "nbformat": 4,
 "nbformat_minor": 4
}
