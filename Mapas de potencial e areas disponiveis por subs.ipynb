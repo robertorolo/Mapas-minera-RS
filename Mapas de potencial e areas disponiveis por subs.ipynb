{
 "cells": [
  {
   "cell_type": "code",
   "execution_count": null,
   "metadata": {},
   "outputs": [],
   "source": [
    "import matplotlib.pyplot as plt\n",
    "import geopandas\n",
    "import numpy as np"
   ]
  },
  {
   "cell_type": "code",
   "execution_count": null,
   "metadata": {},
   "outputs": [],
   "source": [
    "import warnings\n",
    "warnings.filterwarnings('ignore')"
   ]
  },
  {
   "cell_type": "code",
   "execution_count": null,
   "metadata": {},
   "outputs": [],
   "source": [
    "import cartopy.crs as ccrs\n",
    "import numpy as np\n",
    "\n",
    "def scale_bar(ax, length=None, location=(0.5, 0.05), linewidth=3):\n",
    "    \"\"\"\n",
    "    ax is the axes to draw the scalebar on.\n",
    "    length is the length of the scalebar in km.\n",
    "    location is center of the scalebar in axis coordinates.\n",
    "    (ie. 0.5 is the middle of the plot)\n",
    "    linewidth is the thickness of the scalebar.\n",
    "    \"\"\"\n",
    "    #Get the limits of the axis in lat long\n",
    "    llx0, llx1, lly0, lly1 = ax.get_extent(ccrs.PlateCarree())\n",
    "    #Make tmc horizontally centred on the middle of the map,\n",
    "    #vertically at scale bar location\n",
    "    sbllx = (llx1 + llx0) / 2\n",
    "    sblly = lly0 + (lly1 - lly0) * location[1]\n",
    "    tmc = ccrs.TransverseMercator(sbllx, sblly)\n",
    "    #Get the extent of the plotted area in coordinates in metres\n",
    "    x0, x1, y0, y1 = ax.get_extent(tmc)\n",
    "    #Turn the specified scalebar location into coordinates in metres\n",
    "    sbx = x0 + (x1 - x0) * location[0]\n",
    "    sby = y0 + (y1 - y0) * location[1]\n",
    "\n",
    "    #Calculate a scale bar length if none has been given\n",
    "    #(Theres probably a more pythonic way of rounding the number but this works)\n",
    "    if not length: \n",
    "        length = (x1 - x0) / 5000 #in km\n",
    "        ndim = int(np.floor(np.log10(length))) #number of digits in number\n",
    "        length = round(length, -ndim) #round to 1sf\n",
    "        #Returns numbers starting with the list\n",
    "        def scale_number(x):\n",
    "            if str(x)[0] in ['1', '2', '5']: return int(x)        \n",
    "            else: return scale_number(x - 10 ** ndim)\n",
    "        length = scale_number(length) \n",
    "\n",
    "    #Generate the x coordinate for the ends of the scalebar\n",
    "    bar_xs = [sbx - length * 500, sbx + length * 500]\n",
    "    #Plot the scalebar\n",
    "    ax.plot(bar_xs, [sby, sby], transform=tmc, color='k', linewidth=linewidth)\n",
    "    #Plot the scalebar label\n",
    "    ax.text(sbx, sby, str(length) + ' km', transform=tmc,\n",
    "            horizontalalignment='center', verticalalignment='bottom')"
   ]
  },
  {
   "cell_type": "code",
   "execution_count": null,
   "metadata": {},
   "outputs": [],
   "source": [
    "sigmine = geopandas.read_file(\"deps/RS/RS.shp\")"
   ]
  },
  {
   "cell_type": "code",
   "execution_count": null,
   "metadata": {},
   "outputs": [],
   "source": [
    "mapa_sigmine = {\n",
    "'AREIA COMUM':'AREIA',\n",
    "'AREIA FLUVIAL':'AREIA',\n",
    "'AREIA QUARTZOSA':'AREIA',\n",
    "'AREIA DE FUNDIÇÃO':'AREIA',\n",
    "'AREIA INDUSTRIAL':'AREIA',\n",
    "'ARGILA CAULÍNICA':'ARGILA',\n",
    "'ARGILA REFRATÁRIA':'ARGILA',\n",
    "'ARGILA VERMELHA':'ARGILA',\n",
    "'ARENITO BETUMINOSO':'ARENITO',\n",
    "'ARGILA P/CER. VERMELH':'ARGILA VERMELHA',\n",
    "'BASALTO P/ BRITA':'BASALTO',\n",
    "'BASALTO P/ REVESTIMENTO':'BASALTO',\n",
    "'CALCÁRIO CALCÍTICO':'CALCÁRIO',\n",
    "'CALCÁRIO CONCHÍFERO':'CALCÁRIO',\n",
    "'CALCÁRIO DOLOMÍTICO':'CALCÁRIO',\n",
    "'CALCÁRIO INDUSTRIAL':'CALCÁRIO',\n",
    "'CARVÃO MINERAL':'CARVÃO',\n",
    "'COBRE NATIVO':'COBRE',\n",
    "'DIABÁSIO P/ BRITA':'DIABÁSIO',\n",
    "'MINÉRIO DE CHUMBO':'CHUMBO',\n",
    "'MINÉRIO DE COBRE':'COBRE',\n",
    "'MINÉRIO DE OURO':'OURO',\n",
    "'MINÉRIO DE TITÂNIO':'TITÂNIO',\n",
    "'MINÉRIO DE ZINCO':'ZINCO',\n",
    "'ÁGUA MINERAL ALC. BIC':'ÁGUA MINERAL',\n",
    "'ÁGUA POTÁVEL DE MESA':'ÁGUA MINERAL'\n",
    "}\n",
    "\n",
    "sigmine['SUBS'] = sigmine['SUBS'].replace(mapa_sigmine)"
   ]
  },
  {
   "cell_type": "code",
   "execution_count": null,
   "metadata": {},
   "outputs": [],
   "source": [
    "filtro_req1 = sigmine['FASE'] != 'REQUERIMENTO DE PESQUISA'\n",
    "filtro_req2 = sigmine['FASE'] != 'REQUERIMENTO DE LICENCIAMENTO'\n",
    "filtro_req3 = sigmine['FASE'] != 'REQUERIMENTO DE LAVRA GARIMPEIRA'\n",
    "filtro_req4 = sigmine['FASE'] != 'REQUERIMENTO DE REGISTRO DE EXTRAÇÃO'\n",
    "\n",
    "sigmine = sigmine[filtro_req1 & filtro_req2 & filtro_req3 & filtro_req4]"
   ]
  },
  {
   "cell_type": "code",
   "execution_count": null,
   "metadata": {},
   "outputs": [],
   "source": [
    "filtro_n_cad = sigmine['SUBS'] != 'DADO NÃO CADASTRADO'\n",
    "sigmine = sigmine[filtro_n_cad]"
   ]
  },
  {
   "cell_type": "code",
   "execution_count": null,
   "metadata": {},
   "outputs": [],
   "source": [
    "sigmine.head()"
   ]
  },
  {
   "cell_type": "code",
   "execution_count": null,
   "metadata": {},
   "outputs": [],
   "source": [
    "municipios = geopandas.read_file('deps/municipios/Municipios_IBGE.shp')"
   ]
  },
  {
   "cell_type": "code",
   "execution_count": null,
   "metadata": {},
   "outputs": [],
   "source": [
    "municipios.head()"
   ]
  },
  {
   "cell_type": "code",
   "execution_count": null,
   "metadata": {},
   "outputs": [],
   "source": [
    "lista_municipio = ['Caxias do Sul', 'Santa Maria', 'Porto Alegre', 'Pelotas']\n",
    "def plot_municipios(municipios, lista_municipio, ax, c='black', delta=0.05):\n",
    "    x = []\n",
    "    y = []\n",
    "    for index, row in municipios.iterrows():\n",
    "        for m in lista_municipio:\n",
    "            if row['NOME'] == m.upper():\n",
    "                y.append(row['LATITUDESE'])\n",
    "                x.append(row['LONGITUDES'])\n",
    "    ax.scatter(x=x, y=y, marker='x', c=c)\n",
    "    for i, txt in enumerate(lista_municipio[::-1]):\n",
    "        ax.annotate(txt, (x[i]+delta, y[i]+delta), c=c)"
   ]
  },
  {
   "cell_type": "code",
   "execution_count": null,
   "metadata": {},
   "outputs": [],
   "source": [
    "for mineral in sigmine[\"SUBS\"].unique():\n",
    "    municipios[mineral] = np.ones(len(municipios)) * float('nan')\n",
    "    filtro = sigmine[\"SUBS\"] == mineral\n",
    "    filtrado = sigmine[filtro]\n",
    "    geometrias = filtrado['geometry'].to_crs(\"EPSG:4326\")\n",
    "    centroides = geometrias.centroid\n",
    "    for index, row in municipios.iterrows():\n",
    "        poly = row['geometry']\n",
    "        count = 0\n",
    "        for p in centroides:\n",
    "            if p.within(poly):\n",
    "                count = count + 1\n",
    "        #print(row['NOME'], mineral, count)\n",
    "        municipios.at[index, mineral] = int(count)"
   ]
  },
  {
   "cell_type": "code",
   "execution_count": null,
   "metadata": {},
   "outputs": [],
   "source": [
    "municipios.head()"
   ]
  },
  {
   "cell_type": "code",
   "execution_count": null,
   "metadata": {},
   "outputs": [],
   "source": [
    "minerais = municipios.columns[12:]\n",
    "#minerais = [municipios.columns[14]]"
   ]
  },
  {
   "cell_type": "code",
   "execution_count": null,
   "metadata": {},
   "outputs": [],
   "source": [
    "from mpl_toolkits.axes_grid1 import make_axes_locatable\n",
    "\n",
    "for mineral in minerais:\n",
    "    if np.sum(municipios[mineral].values) > 30:\n",
    "        fig, ax = plt.subplots(figsize=(12,12), subplot_kw={'projection': ccrs.PlateCarree()})\n",
    "        municipios.plot(ax=ax, column=mineral, legend=False)\n",
    "\n",
    "        gl = ax.gridlines(crs=ccrs.PlateCarree(), draw_labels=True,\n",
    "                      linewidth=1, color='gray', alpha=0.5, linestyle='--')\n",
    "        #gl.xlabels_top = False\n",
    "\n",
    "        divider = make_axes_locatable(ax)\n",
    "        ax_cb = divider.new_horizontal(size=\"5%\", pad=0.1, axes_class=plt.Axes)\n",
    "        vmax = municipios[mineral].values.max()\n",
    "        mappable = plt.cm.ScalarMappable(cmap='viridis', norm=plt.Normalize(vmin=0, vmax=100))\n",
    "        fig.add_axes(ax_cb)\n",
    "        cbar = fig.colorbar(mappable, cax=ax_cb, ticks=[0, 50, 100])\n",
    "        cbar.ax.set_yticklabels(['Baixa', 'Média', 'Alta'])\n",
    "\n",
    "        #x, y, arrow_length = 0.04, 0.12, 0.1\n",
    "        #ax.annotate('N', xy=(x, y), xytext=(x, y-arrow_length),\n",
    "        #arrowprops=dict(facecolor='black', width=5, headwidth=15),\n",
    "        #ha='center', va='center', fontsize=12,\n",
    "        #xycoords=ax.transAxes)\n",
    "\n",
    "        #scale_bar(ax, 100, location=(0.5,0.01))\n",
    "        \n",
    "        plot_municipios(municipios, lista_municipio, ax, c='gray', delta=0.05)\n",
    "\n",
    "        ax.set_title('DENSIDADE DE PROCESSOS - {}'.format(mineral), loc='center', fontsize='14')\n",
    "        nome = mineral.replace('/', '')\n",
    "        plt.savefig('imagens/potencial/subs/'+nome+\".png\", bbox_inches='tight', facecolor='white', dpi = 300)\n",
    "        #plt.show()\n",
    "        \n",
    "        ##############################################################################################################\n",
    "        \n",
    "        fig, ax = plt.subplots(figsize=(12,12), subplot_kw={'projection': ccrs.PlateCarree()})\n",
    "        municipios.plot(ax=ax, color='gainsboro', edgecolor='silver')\n",
    "\n",
    "        gl = ax.gridlines(crs=ccrs.PlateCarree(), draw_labels=True,\n",
    "                      linewidth=1, color='gray', alpha=0.5, linestyle='--')\n",
    "        \n",
    "        sigmine_minerais = sigmine[sigmine['SUBS'] == mineral]\n",
    "        sigmine_minerais_disp = sigmine_minerais[sigmine['FASE']=='DISPONIBILIDADE']\n",
    "        \n",
    "        if len(sigmine_minerais_disp) > 0:\n",
    "            \n",
    "            x = []\n",
    "            y = []\n",
    "            for idx, row in sigmine_minerais_disp.iterrows():\n",
    "                i = row['geometry'].centroid\n",
    "                x.append(i.x)\n",
    "                y.append(i.y)\n",
    "                \n",
    "            ax.scatter(x, y, color='green')\n",
    "                \n",
    "            #x, y, arrow_length = 0.04, 0.12, 0.1\n",
    "            #ax.annotate('N', xy=(x, y), xytext=(x, y-arrow_length),\n",
    "            #arrowprops=dict(facecolor='black', width=5, headwidth=15),\n",
    "            #ha='center', va='center', fontsize=12,\n",
    "            #xycoords=ax.transAxes)\n",
    "\n",
    "            #scale_bar(ax, 100, location=(0.5,0.01))\n",
    "\n",
    "            plot_municipios(municipios, lista_municipio, ax, c='gray', delta=0.05)\n",
    "\n",
    "            ax.set_title('ÁREAS DISPONÍVEIS - {}'.format(mineral), loc='center', fontsize='14')\n",
    "            nome = mineral.replace('/', '')\n",
    "            plt.savefig('imagens/disponiveis/disp_'+nome+\".png\", bbox_inches='tight', facecolor='white', dpi = 300)"
   ]
  },
  {
   "cell_type": "code",
   "execution_count": null,
   "metadata": {},
   "outputs": [],
   "source": [
    "fig = plt.figure(figsize=(25,25))\n",
    "nomes = []\n",
    "alturas = []\n",
    "for m in minerais:\n",
    "    nomes.append(m)\n",
    "    altura = len(sigmine['SUBS'][sigmine['SUBS']==m])\n",
    "    alturas.append(altura)\n",
    "    \n",
    "alturas = np.array(alturas)\n",
    "nomes = np.array(nomes)\n",
    "inds = alturas.argsort()\n",
    "nomes = nomes[inds]\n",
    "alturas = alturas[inds]\n",
    "\n",
    "x = [i for i in range(len(nomes))]\n",
    "plt.xticks(x, nomes, rotation='vertical')\n",
    "plt.yticks([i for i in range(50)])\n",
    "plt.bar(x, alturas)\n",
    "plt.ylim((0,50))\n",
    "plt.grid()\n",
    "plt.savefig(\"imagens/potencial/subs/processos.png\", bbox_inches='tight', facecolor='white', dpi = 300)"
   ]
  },
  {
   "cell_type": "code",
   "execution_count": null,
   "metadata": {},
   "outputs": [],
   "source": []
  }
 ],
 "metadata": {
  "interpreter": {
   "hash": "8e0c6cb7bc90b57d44b06d75db20d7f18eef67464bbf665b44327389cc5bd62a"
  },
  "kernelspec": {
   "display_name": "Python 3.7.3 64-bit ('drh': venv)",
   "name": "python3"
  },
  "language_info": {
   "codemirror_mode": {
    "name": "ipython",
    "version": 3
   },
   "file_extension": ".py",
   "mimetype": "text/x-python",
   "name": "python",
   "nbconvert_exporter": "python",
   "pygments_lexer": "ipython3",
   "version": "3.8.11"
  }
 },
 "nbformat": 4,
 "nbformat_minor": 4
}
