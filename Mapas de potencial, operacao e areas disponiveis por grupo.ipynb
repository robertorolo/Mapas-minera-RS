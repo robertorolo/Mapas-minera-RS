{
 "cells": [
  {
   "cell_type": "code",
   "execution_count": null,
   "metadata": {},
   "outputs": [],
   "source": [
    "import matplotlib.pyplot as plt\n",
    "import geopandas\n",
    "import numpy as np\n",
    "import seaborn as sns"
   ]
  },
  {
   "cell_type": "code",
   "execution_count": null,
   "metadata": {},
   "outputs": [],
   "source": [
    "import warnings\n",
    "warnings.filterwarnings('ignore')"
   ]
  },
  {
   "cell_type": "code",
   "execution_count": null,
   "metadata": {},
   "outputs": [],
   "source": [
    "import cartopy.crs as ccrs\n",
    "import numpy as np\n",
    "\n",
    "def scale_bar(ax, length=None, location=(0.5, 0.05), linewidth=3):\n",
    "    \"\"\"\n",
    "    ax is the axes to draw the scalebar on.\n",
    "    length is the length of the scalebar in km.\n",
    "    location is center of the scalebar in axis coordinates.\n",
    "    (ie. 0.5 is the middle of the plot)\n",
    "    linewidth is the thickness of the scalebar.\n",
    "    \"\"\"\n",
    "    #Get the limits of the axis in lat long\n",
    "    llx0, llx1, lly0, lly1 = ax.get_extent(ccrs.PlateCarree())\n",
    "    #Make tmc horizontally centred on the middle of the map,\n",
    "    #vertically at scale bar location\n",
    "    sbllx = (llx1 + llx0) / 2\n",
    "    sblly = lly0 + (lly1 - lly0) * location[1]\n",
    "    tmc = ccrs.TransverseMercator(sbllx, sblly)\n",
    "    #Get the extent of the plotted area in coordinates in metres\n",
    "    x0, x1, y0, y1 = ax.get_extent(tmc)\n",
    "    #Turn the specified scalebar location into coordinates in metres\n",
    "    sbx = x0 + (x1 - x0) * location[0]\n",
    "    sby = y0 + (y1 - y0) * location[1]\n",
    "\n",
    "    #Calculate a scale bar length if none has been given\n",
    "    #(Theres probably a more pythonic way of rounding the number but this works)\n",
    "    if not length: \n",
    "        length = (x1 - x0) / 5000 #in km\n",
    "        ndim = int(np.floor(np.log10(length))) #number of digits in number\n",
    "        length = round(length, -ndim) #round to 1sf\n",
    "        #Returns numbers starting with the list\n",
    "        def scale_number(x):\n",
    "            if str(x)[0] in ['1', '2', '5']: return int(x)        \n",
    "            else: return scale_number(x - 10 ** ndim)\n",
    "        length = scale_number(length) \n",
    "\n",
    "    #Generate the x coordinate for the ends of the scalebar\n",
    "    bar_xs = [sbx - length * 500, sbx + length * 500]\n",
    "    #Plot the scalebar\n",
    "    ax.plot(bar_xs, [sby, sby], transform=tmc, color='k', linewidth=linewidth)\n",
    "    #Plot the scalebar label\n",
    "    ax.text(sbx, sby, str(length) + ' km', transform=tmc,\n",
    "            horizontalalignment='center', verticalalignment='bottom')"
   ]
  },
  {
   "cell_type": "code",
   "execution_count": null,
   "metadata": {},
   "outputs": [],
   "source": [
    "sigmine = geopandas.read_file(\"deps/RS/RS.shp\")"
   ]
  },
  {
   "cell_type": "code",
   "execution_count": null,
   "metadata": {},
   "outputs": [],
   "source": [
    "mapa_sigmine = {\n",
    "'AREIA COMUM':'AREIA',\n",
    "'AREIA FLUVIAL':'AREIA',\n",
    "'AREIA QUARTZOSA':'AREIA',\n",
    "'AREIA DE FUNDIÇÃO':'AREIA',\n",
    "'AREIA INDUSTRIAL':'AREIA',\n",
    "'ARGILA CAULÍNICA':'ARGILA',\n",
    "'ARGILA REFRATÁRIA':'ARGILA',\n",
    "'ARGILA VERMELHA':'ARGILA',\n",
    "'ARENITO BETUMINOSO':'ARENITO',\n",
    "'ARGILA P/CER. VERMELH':'ARGILA VERMELHA',\n",
    "'BASALTO P/ BRITA':'BASALTO',\n",
    "'BASALTO P/ REVESTIMENTO':'BASALTO',\n",
    "'CALCÁRIO CALCÍTICO':'CALCÁRIO',\n",
    "'CALCÁRIO CONCHÍFERO':'CALCÁRIO',\n",
    "'CALCÁRIO DOLOMÍTICO':'CALCÁRIO',\n",
    "'CALCÁRIO INDUSTRIAL':'CALCÁRIO',\n",
    "'CARVÃO MINERAL':'CARVÃO',\n",
    "'COBRE NATIVO':'COBRE',\n",
    "'DIABÁSIO P/ BRITA':'DIABÁSIO',\n",
    "'MINÉRIO DE CHUMBO':'CHUMBO',\n",
    "'MINÉRIO DE COBRE':'COBRE',\n",
    "'MINÉRIO DE OURO':'OURO',\n",
    "'MINÉRIO DE TITÂNIO':'TITÂNIO',\n",
    "'MINÉRIO DE ZINCO':'ZINCO',\n",
    "'ÁGUA MINERAL ALC. BIC':'ÁGUA MINERAL',\n",
    "'ÁGUA POTÁVEL DE MESA':'ÁGUA MINERAL'\n",
    "}\n",
    "\n",
    "sigmine['SUBS'] = sigmine['SUBS'].replace(mapa_sigmine)"
   ]
  },
  {
   "cell_type": "code",
   "execution_count": null,
   "metadata": {},
   "outputs": [],
   "source": [
    "sigmine['FASE'].unique()"
   ]
  },
  {
   "cell_type": "code",
   "execution_count": null,
   "metadata": {},
   "outputs": [],
   "source": [
    "filtro_req1 = sigmine['FASE'] != 'REQUERIMENTO DE PESQUISA'\n",
    "filtro_req2 = sigmine['FASE'] != 'REQUERIMENTO DE LICENCIAMENTO'\n",
    "filtro_req3 = sigmine['FASE'] != 'REQUERIMENTO DE LAVRA GARIMPEIRA'\n",
    "filtro_req4 = sigmine['FASE'] != 'REQUERIMENTO DE REGISTRO DE EXTRAÇÃO'\n",
    "\n",
    "sigmine = sigmine[filtro_req1 & filtro_req2 & filtro_req3 & filtro_req4]"
   ]
  },
  {
   "cell_type": "code",
   "execution_count": null,
   "metadata": {},
   "outputs": [],
   "source": [
    "filtro_n_cad = sigmine['SUBS'] != 'DADO NÃO CADASTRADO'\n",
    "sigmine = sigmine[filtro_n_cad]"
   ]
  },
  {
   "cell_type": "code",
   "execution_count": null,
   "metadata": {},
   "outputs": [],
   "source": [
    "len(sigmine)"
   ]
  },
  {
   "cell_type": "code",
   "execution_count": null,
   "metadata": {},
   "outputs": [],
   "source": [
    "sigmine.head()"
   ]
  },
  {
   "cell_type": "code",
   "execution_count": null,
   "metadata": {},
   "outputs": [],
   "source": [
    "for i in np.sort(sigmine['SUBS'].unique()):\n",
    "    f = sigmine['SUBS'] == i\n",
    "    d = sigmine[f]\n",
    "    print(i,d['USO'].unique())"
   ]
  },
  {
   "cell_type": "code",
   "execution_count": null,
   "metadata": {},
   "outputs": [],
   "source": [
    "f1 = sigmine['USO'] == 'Construção civil'\n",
    "f2 = sigmine['USO'] == 'Fabricação de cimento'\n",
    "f3 = sigmine['USO'] == 'Brita'\n",
    "f4 = sigmine['USO'] == 'Não informado'\n",
    "civil = sigmine[f1 | f2 | f3 | f4]\n",
    "\n",
    "f5 = sigmine['SUBS'] == 'AREIA'\n",
    "f6 = sigmine['SUBS'] == 'AREIA DE FUNDIÇÃO'\n",
    "f7 = sigmine['SUBS'] == 'AREIA QUARTZOSA'\n",
    "f8 = sigmine['SUBS'] == 'AREIA COMUM'\n",
    "f9 = sigmine['SUBS'] == 'AREIA FLUVIAL'\n",
    "f10 = sigmine['SUBS'] == 'ARENITO'\n",
    "f11 = sigmine['SUBS'] == 'ARGILA'\n",
    "f12 = sigmine['SUBS'] == 'ARGILA REFRATÁRIA'\n",
    "f13 = sigmine['SUBS'] == 'ARGILITO'\n",
    "f14 = sigmine['SUBS'] == 'BASALTO'\n",
    "f15 = sigmine['SUBS'] == 'BASALTO P/ BRITA'\n",
    "f16 = sigmine['SUBS'] == 'BENTONITA'\n",
    "f17 = sigmine['SUBS'] == 'CALCÁRIO'\n",
    "f18 = sigmine['SUBS'] == 'CALCÁRIO CALCÍTICO'\n",
    "f19 = sigmine['SUBS'] == 'CASCALHO'\n",
    "f20 = sigmine['SUBS'] == 'DIABÁSIO'\n",
    "f21 = sigmine['SUBS'] == 'DIABÁSIO P/ BRITA'\n",
    "f22 = sigmine['SUBS'] == 'GABRO'\n",
    "f23 = sigmine['SUBS'] == 'GNAISSE'\n",
    "f24 = sigmine['SUBS'] == 'GRANITO'\n",
    "f25 = sigmine['SUBS'] == 'QUARTZITO'\n",
    "f26 = sigmine['SUBS'] == 'RIÓLITO'\n",
    "f27 = sigmine['SUBS'] == 'SAIBRO'\n",
    "civil = civil[f5 | f6 | f7 | f8 | f9 | f10 | f11 | f12 | f13 | f14 | f15 | f16 | f17 | f18 | f19 | f20 | f21 | f22 | f23 | f24 | f25 | f26 | f27]"
   ]
  },
  {
   "cell_type": "code",
   "execution_count": null,
   "metadata": {},
   "outputs": [],
   "source": [
    "f1 = sigmine['SUBS'] == 'CALCÁRIO'\n",
    "f2 = sigmine['SUBS'] == 'CALCÁRIO DOLOMÍTICO'\n",
    "f3 = sigmine['SUBS'] == 'CALCÁRIO CALCÍTICO'\n",
    "f4 = sigmine['SUBS'] == 'CALCÁRIO CONCHÍFERO'\n",
    "f5 = sigmine['SUBS'] == 'CONCHAS CALCÁRIAS'\n",
    "f6 = sigmine['SUBS'] == 'PEDRA CALCÁRIA'\n",
    "f7 = sigmine['SUBS'] == 'CAULIM'\n",
    "f8 = sigmine['SUBS'] == 'DOLOMITO'\n",
    "f9 = sigmine['SUBS'] == 'FOSFATO'\n",
    "f10 = sigmine['SUBS'] == 'TALCO'\n",
    "agricolas = sigmine[f1 | f2 | f3 | f4 | f5 | f6 | f7 | f8 | f9 | f10]"
   ]
  },
  {
   "cell_type": "code",
   "execution_count": null,
   "metadata": {},
   "outputs": [],
   "source": [
    "f1 = sigmine['SUBS'] == 'ANTRACITO'\n",
    "f2 = sigmine['SUBS'] == 'ARENITO BETUMINOSO'\n",
    "f3 = sigmine['SUBS'] == 'CARVÃO MINERAL'\n",
    "f4 = sigmine['SUBS'] == 'FOLHELHO BETUMINOSO'\n",
    "f5 = sigmine['SUBS'] == 'FOLHELHO PIROBETUMINOSO'\n",
    "f6 = sigmine['SUBS'] == 'LINHITO'\n",
    "f7 = sigmine['SUBS'] == 'ROCHA BETUMINOSA'\n",
    "f8 = sigmine['SUBS'] == 'SAPROPELITO'\n",
    "f9 = sigmine['SUBS'] == 'TURFA'\n",
    "f10 = sigmine['SUBS'] == 'CARVÃO'\n",
    "\n",
    "energeticos = sigmine[f1 | f2 | f3 | f4 | f5 | f6 | f7 | f8 | f9 | f10]"
   ]
  },
  {
   "cell_type": "code",
   "execution_count": null,
   "metadata": {},
   "outputs": [],
   "source": [
    "f1 = sigmine['SUBS'] == 'CASSITERITA'\n",
    "f2 = sigmine['SUBS'] == 'CHUMBO'\n",
    "f3 = sigmine['SUBS'] == 'COBRE'\n",
    "f4 = sigmine['SUBS'] == 'FERRO'\n",
    "f5 = sigmine['SUBS'] == 'ILMENITA'\n",
    "f6 = sigmine['SUBS'] == 'LIMONITA'\n",
    "f7 = sigmine['SUBS'] == 'MINÉRIO DE CHUMBO'\n",
    "f8 = sigmine['SUBS'] == 'MINÉRIO DE COBRE'\n",
    "f9 = sigmine['SUBS'] == 'MINÉRIO DE OURO'\n",
    "f10 = sigmine['SUBS'] == 'MINÉRIO DE TITÂNIO'\n",
    "f11 = sigmine['SUBS'] == 'MINÉRIO DE ZINCO'\n",
    "f12 = sigmine['SUBS'] == 'MOLIBDÊNIO'\n",
    "f13 = sigmine['SUBS'] == 'OURO'\n",
    "f14 = sigmine['SUBS'] == 'PRATA'\n",
    "f15 = sigmine['SUBS'] == 'TANTALITA'\n",
    "f16 = sigmine['SUBS'] == 'TITÂNIO'\n",
    "metalicos = sigmine[f1 | f2 | f3 | f4 | f5 | f6 | f7 | f8 | f9 | f10 | f11 | f12 | f13 | f14 | f15 | f16]"
   ]
  },
  {
   "cell_type": "code",
   "execution_count": null,
   "metadata": {},
   "outputs": [],
   "source": [
    "f1 = sigmine['USO'] == 'Cerâmica vermelha'\n",
    "f2 = sigmine['USO'] == 'Industrial'\n",
    "f3 = sigmine['USO'] == 'Não informado'\n",
    "ceramicas = sigmine[f1 | f2 | f3]\n",
    "\n",
    "f4 = sigmine['SUBS'] == 'ARGILA'\n",
    "f5 = sigmine['SUBS'] == 'CALCÁRIO'\n",
    "f6 = sigmine['SUBS'] == 'ARGILA REFRATÁRIA'\n",
    "f7 = sigmine['SUBS'] == 'ARGILA VERMELHA'\n",
    "f8 = sigmine['SUBS'] == 'ARGILA CAULÍNICA'\n",
    "f9 = sigmine['SUBS'] == 'ARGILA P/CER. VERMELH'\n",
    "f10 = sigmine['SUBS'] == 'ARGILITO'\n",
    "f11 = sigmine['SUBS'] == 'BENTONITA'\n",
    "f12 = sigmine['SUBS'] == 'CAULIM'\n",
    "f13 = sigmine['SUBS'] == 'FILITO'\n",
    "ceramicas = ceramicas[f4 | f5 | f6 | f7 | f8 | f9 | f10 | f11 | f12 | f13]"
   ]
  },
  {
   "cell_type": "code",
   "execution_count": null,
   "metadata": {},
   "outputs": [],
   "source": [
    "f1 = sigmine['USO'] == 'Construção civil'\n",
    "f2 = sigmine['USO'] == 'Pedra de Talhe'\n",
    "f3 = sigmine['USO'] == 'Pedra decorativa'\n",
    "f4 = sigmine['USO'] == 'Revestimento'\n",
    "f5 = sigmine['USO'] == 'Não informado'\n",
    "ornamentais = sigmine[f1 | f2 | f3 | f4 | f5]\n",
    "\n",
    "f6 = sigmine['SUBS'] == 'ANORTOSITO'\n",
    "f7 = sigmine['SUBS'] == 'ARENITO'\n",
    "f8 = sigmine['SUBS'] == 'BASALTO'\n",
    "f9 = sigmine['SUBS'] == 'BASALTO P/ REVESTIMENTO'\n",
    "f10 = sigmine['SUBS'] == 'DIABÁSIO'\n",
    "f11 = sigmine['SUBS'] == 'GRANITO'\n",
    "f12 = sigmine['SUBS'] == 'GRANITO ORNAMENTAL'\n",
    "f13 = sigmine['SUBS'] == 'MÁMORE'\n",
    "f14 = sigmine['SUBS'] == 'QUARTZITO'\n",
    "f15 = sigmine['SUBS'] == 'RIÓLITO'\n",
    "f16 = sigmine['SUBS'] == 'SIENITO'\n",
    "ornamentais = ornamentais[f6 | f7 | f8 | f9 | f10 | f11 | f12 | f13 | f14 | f15 | f16]"
   ]
  },
  {
   "cell_type": "code",
   "execution_count": null,
   "metadata": {},
   "outputs": [],
   "source": [
    "f1 = sigmine['SUBS'] == 'ÁGATA'\n",
    "f2 = sigmine['SUBS'] == 'ÁGUA MARINHA'\n",
    "f3 = sigmine['SUBS'] == 'AMETISTA'\n",
    "f4 = sigmine['SUBS'] == 'CALCEDÔNIA'\n",
    "f5 = sigmine['SUBS'] == 'CITRINO'\n",
    "f6 = sigmine['SUBS'] == 'GEMA'\n",
    "f7 = sigmine['SUBS'] == 'OPALA'\n",
    "f8 = sigmine['SUBS'] == 'QUARTZO'\n",
    "\n",
    "gemas = sigmine[f1 | f2 | f3 | f4 | f5 | f6 | f7 | f8]"
   ]
  },
  {
   "cell_type": "code",
   "execution_count": null,
   "metadata": {},
   "outputs": [],
   "source": [
    "f1 = sigmine['SUBS'] == 'ÁGUA MINERAL ALC. BIC'\n",
    "f2 = sigmine['SUBS'] == 'ÁGUA MINERAL'\n",
    "f3 = sigmine['SUBS'] == 'ÁGUA POTÁVEL DE MESA'\n",
    "\n",
    "aguas = sigmine[f1 | f2 | f3]"
   ]
  },
  {
   "cell_type": "code",
   "execution_count": null,
   "metadata": {},
   "outputs": [],
   "source": [
    "grupos = {'Materiais para construção civil':civil,\n",
    "          'Insumos agrícolas': agricolas,\n",
    "          'Recursos energéticos': energeticos,\n",
    "          'Minerais metálicos': metalicos,\n",
    "          'Indústria cerâmica': ceramicas,\n",
    "          'Rochas ornamentais': ornamentais,\n",
    "          'Pedras preciosas':gemas,\n",
    "          'Águas minerais': aguas\n",
    "         }"
   ]
  },
  {
   "cell_type": "code",
   "execution_count": null,
   "metadata": {},
   "outputs": [],
   "source": [
    "municipios = geopandas.read_file('deps/municipios/Municipios_IBGE.shp')"
   ]
  },
  {
   "cell_type": "code",
   "execution_count": null,
   "metadata": {},
   "outputs": [],
   "source": [
    "municipios.head()"
   ]
  },
  {
   "cell_type": "code",
   "execution_count": null,
   "metadata": {},
   "outputs": [],
   "source": [
    "lista_municipio = ['Caxias do Sul', 'Santa Maria', 'Porto Alegre', 'Pelotas']\n",
    "def plot_municipios(municipios, lista_municipio, ax, c='black', delta=0.05):\n",
    "    x = []\n",
    "    y = []\n",
    "    for index, row in municipios.iterrows():\n",
    "        for m in lista_municipio:\n",
    "            if row['NOME'] == m.upper():\n",
    "                y.append(row['LATITUDESE'])\n",
    "                x.append(row['LONGITUDES'])\n",
    "    ax.scatter(x=x, y=y, marker='x', c=c)\n",
    "    for i, txt in enumerate(lista_municipio[::-1]):\n",
    "        ax.annotate(txt, (x[i]+delta, y[i]+delta), c=c)"
   ]
  },
  {
   "cell_type": "code",
   "execution_count": null,
   "metadata": {},
   "outputs": [],
   "source": [
    "for grupo in grupos:\n",
    "    municipios[grupo] = np.ones(len(municipios)) * float('nan')\n",
    "    geometrias = grupos[grupo]['geometry'].to_crs(\"EPSG:4326\")\n",
    "    centroides = geometrias.centroid\n",
    "    for index, row in municipios.iterrows():\n",
    "        poly = row['geometry']\n",
    "        count = 0\n",
    "        for p in centroides:\n",
    "            if p.within(poly):\n",
    "                count = count + 1\n",
    "        #print(row['NOME'], mineral, count)\n",
    "        municipios.at[index, grupo] = int(count)"
   ]
  },
  {
   "cell_type": "code",
   "execution_count": null,
   "metadata": {},
   "outputs": [],
   "source": [
    "municipios.head()"
   ]
  },
  {
   "cell_type": "code",
   "execution_count": null,
   "metadata": {},
   "outputs": [],
   "source": [
    "grupos_m = municipios.columns[12:]\n",
    "#minerais = [municipios.columns[14]]"
   ]
  },
  {
   "cell_type": "code",
   "execution_count": null,
   "metadata": {},
   "outputs": [],
   "source": [
    "from mpl_toolkits.axes_grid1 import make_axes_locatable\n",
    "\n",
    "for grupo in grupos_m:\n",
    "    fig, ax = plt.subplots(figsize=(12,12), subplot_kw={'projection': ccrs.PlateCarree()})\n",
    "    municipios.plot(ax=ax, column=grupo, legend=False)\n",
    "\n",
    "    gl = ax.gridlines(crs=ccrs.PlateCarree(), draw_labels=True,\n",
    "                  linewidth=1, color='gray', alpha=0.5, linestyle='--')\n",
    "    gl.xlabels_top = False\n",
    "\n",
    "    divider = make_axes_locatable(ax)\n",
    "    ax_cb = divider.new_horizontal(size=\"5%\", pad=0.1, axes_class=plt.Axes)\n",
    "    vmax = municipios[grupo].values.max()\n",
    "    mappable = plt.cm.ScalarMappable(cmap='viridis', norm=plt.Normalize(vmin=0, vmax=100))\n",
    "    fig.add_axes(ax_cb)\n",
    "    cbar = fig.colorbar(mappable, cax=ax_cb, ticks=[0, 50, 100])\n",
    "    cbar.ax.set_yticklabels(['Baixa', 'Média', 'Alta'])\n",
    "\n",
    "    #x, y, arrow_length = 0.04, 0.12, 0.1\n",
    "    #ax.annotate('N', xy=(x, y), xytext=(x, y-arrow_length),\n",
    "    #arrowprops=dict(facecolor='black', width=5, headwidth=15),\n",
    "    #ha='center', va='center', fontsize=12,\n",
    "    #xycoords=ax.transAxes)\n",
    "\n",
    "    #scale_bar(ax, 100, location=(0.5,0.01))\n",
    "\n",
    "    ax.set_title('DENSIDADE DE PROCESSOS - {}'.format(grupo.upper()), loc='center', fontsize='14')\n",
    "    #fig.suptitle('Potencial - {}'.format(grupo), fontsize='14')\n",
    "    \n",
    "    plot_municipios(municipios, lista_municipio, ax, c='gray', delta=0.05)\n",
    "    \n",
    "    #nome = mineral.replace('/', '')\n",
    "    plt.savefig('imagens/potencial/grupo/'+grupo+\".png\", bbox_inches='tight', facecolor='white', dpi = 300)\n",
    "    #plt.show()"
   ]
  },
  {
   "cell_type": "code",
   "execution_count": null,
   "metadata": {},
   "outputs": [],
   "source": [
    "for grupo in grupos:\n",
    "    f = grupos[grupo]['FASE'] == 'CONCESSÃO DE LAVRA'\n",
    "    f1 = grupos[grupo]['FASE'] == 'LAVRA GARIMPEIRA'\n",
    "    fig, ax = plt.subplots(figsize=(12,12), subplot_kw={'projection': ccrs.PlateCarree()})\n",
    "    municipios.plot(ax=ax, color='gainsboro', edgecolor='silver')\n",
    "\n",
    "    gl = ax.gridlines(crs=ccrs.PlateCarree(), draw_labels=True,\n",
    "                  linewidth=1, color='gray', alpha=0.5, linestyle='--')\n",
    "    #gl.xlabels_top = False\n",
    "\n",
    "    gp = grupos[grupo][f | f1]\n",
    "    gp = gp.sort_values('SUBS')\n",
    "    \n",
    "    #colors\n",
    "    #colormap = plt.cm.Set1\n",
    "    #colors = [colormap(i) for i in np.linspace(0, 1., len(gp['SUBS'].unique()))]\n",
    "    colors = sns.color_palette(\"Set1\", len(gp['SUBS'].unique()))\n",
    "    colors = ['#e6194b', '#3cb44b', '#ffe119', '#4363d8', '#f58231', '#911eb4', '#46f0f0', '#f032e6', '#bcf60c', '#fabebe', '#008080', '#e6beff', '#9a6324', '#fffac8', '#800000', '#aaffc3', '#808000', '#ffd8b1', '#000075', '#808080', '#ffffff', '#000000']    \n",
    "    ax.set_prop_cycle('color', colors)\n",
    "    \n",
    "    geometrias = gp['geometry'].to_crs(\"EPSG:4326\")\n",
    "    gp['centroids'] = geometrias.centroid\n",
    "    #gp.plot(ax=ax, column='SUBS', legend=True)\n",
    "    for sub in gp['SUBS'].unique():\n",
    "        f_sub = gp['SUBS'] == sub\n",
    "        x = [c.x for c in gp[f_sub]['centroids']]\n",
    "        y = [c.y for c in gp[f_sub]['centroids']]\n",
    "        ax.scatter(x, y, label=sub)\n",
    "\n",
    "    #x, y, arrow_length = 0.04, 0.12, 0.1\n",
    "    #ax.annotate('N', xy=(x, y), xytext=(x, y-arrow_length),\n",
    "    #arrowprops=dict(facecolor='black', width=5, headwidth=15),\n",
    "    #ha='center', va='center', fontsize=12,\n",
    "    #xycoords=ax.transAxes)\n",
    "\n",
    "    #scale_bar(ax, 100, location=(0.5,0.01))\n",
    "    \n",
    "    plot_municipios(municipios, lista_municipio, ax, c='black', delta=0.05)\n",
    "\n",
    "    ax.set_title('MINAS EM OPERAÇÃO - {}'.format(grupo.upper()), loc='center', fontsize='14')\n",
    "    #fig.suptitle('Potencial - {}'.format(grupo), fontsize='14')\n",
    "    plt.legend(bbox_to_anchor=(1.04, 1), edgecolor = 'white', fontsize='14', title='SUBSTÂNCIAS:', title_fontsize='14', loc='upper left')\n",
    "    \n",
    "    #nome = mineral.replace('/', '')\n",
    "    plt.savefig('imagens/operacao/'+grupo+\".png\", bbox_inches='tight', facecolor='white', dpi = 300)\n",
    "    #plt.show()\n",
    "    \n",
    "    ############################################################################################################\n",
    "\n",
    "    sigmine_minerais_disp = grupos[grupo][grupos[grupo]['FASE']=='DISPONIBILIDADE']\n",
    "    #print(sigmine_minerais_disp.shape)\n",
    "\n",
    "    if len(sigmine_minerais_disp) > 0:\n",
    "        \n",
    "        fig, ax = plt.subplots(figsize=(12,12), subplot_kw={'projection': ccrs.PlateCarree()})\n",
    "        municipios.plot(ax=ax, color='gainsboro', edgecolor='silver')\n",
    "\n",
    "        gl = ax.gridlines(crs=ccrs.PlateCarree(), draw_labels=True,\n",
    "                      linewidth=1, color='gray', alpha=0.5, linestyle='--')\n",
    "        \n",
    "        colors = sns.color_palette(\"Set1\", len(sigmine_minerais_disp['SUBS'].unique()))\n",
    "        colors = ['#e6194b', '#3cb44b', '#ffe119', '#4363d8', '#f58231', '#911eb4', '#46f0f0', '#f032e6', '#bcf60c', '#fabebe', '#008080', '#e6beff', '#9a6324', '#fffac8', '#800000', '#aaffc3', '#808000', '#ffd8b1', '#000075', '#808080', '#ffffff', '#000000']    \n",
    "        ax.set_prop_cycle('color', colors)\n",
    "        \n",
    "        for sub in sigmine_minerais_disp['SUBS'].unique():\n",
    "            print(sub)\n",
    "            x = []\n",
    "            y = []\n",
    "            for idx, row in sigmine_minerais_disp[sigmine_minerais_disp['SUBS'] == sub].iterrows():\n",
    "                i = row['geometry'].centroid\n",
    "                x.append(i.x)\n",
    "                y.append(i.y)\n",
    "\n",
    "            ax.scatter(x, y, label=sub)\n",
    "\n",
    "        #x, y, arrow_length = 0.04, 0.12, 0.1\n",
    "        #ax.annotate('N', xy=(x, y), xytext=(x, y-arrow_length),\n",
    "        #arrowprops=dict(facecolor='black', width=5, headwidth=15),\n",
    "        #ha='center', va='center', fontsize=12,\n",
    "        #xycoords=ax.transAxes)\n",
    "\n",
    "        #scale_bar(ax, 100, location=(0.5,0.01))\n",
    "\n",
    "        plot_municipios(municipios, lista_municipio, ax, c='gray', delta=0.05)\n",
    "\n",
    "        ax.set_title('ÁREAS DISPONÍVEIS - {}'.format(grupo.upper()), loc='center', fontsize='14')\n",
    "        plt.legend(bbox_to_anchor=(1.04, 1), edgecolor = 'white', fontsize='14', title='SUBSTÂNCIAS:', title_fontsize='14', loc='upper left')\n",
    "        nome = grupo.upper()\n",
    "        plt.savefig('imagens/disponiveis/disp_'+nome+\".png\", bbox_inches='tight', facecolor='white', dpi = 300)"
   ]
  },
  {
   "cell_type": "code",
   "execution_count": null,
   "metadata": {},
   "outputs": [],
   "source": []
  }
 ],
 "metadata": {
  "interpreter": {
   "hash": "8e0c6cb7bc90b57d44b06d75db20d7f18eef67464bbf665b44327389cc5bd62a"
  },
  "kernelspec": {
   "display_name": "Python 3.7.3 64-bit ('drh': venv)",
   "name": "python3"
  },
  "language_info": {
   "codemirror_mode": {
    "name": "ipython",
    "version": 3
   },
   "file_extension": ".py",
   "mimetype": "text/x-python",
   "name": "python",
   "nbconvert_exporter": "python",
   "pygments_lexer": "ipython3",
   "version": "3.8.11"
  }
 },
 "nbformat": 4,
 "nbformat_minor": 4
}
