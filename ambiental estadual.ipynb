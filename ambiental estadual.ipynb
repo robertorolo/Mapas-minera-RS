{
 "cells": [
  {
   "cell_type": "code",
   "execution_count": 1,
   "metadata": {},
   "outputs": [],
   "source": [
    "import matplotlib.pyplot as plt\n",
    "import geopandas\n",
    "import numpy as np"
   ]
  },
  {
   "cell_type": "code",
   "execution_count": 2,
   "metadata": {},
   "outputs": [],
   "source": [
    "import warnings\n",
    "warnings.filterwarnings('ignore')"
   ]
  },
  {
   "cell_type": "code",
   "execution_count": 3,
   "metadata": {},
   "outputs": [],
   "source": [
    "import cartopy.crs as ccrs\n",
    "import numpy as np\n",
    "\n",
    "def scale_bar(ax, length=None, location=(0.5, 0.05), linewidth=3):\n",
    "    \"\"\"\n",
    "    ax is the axes to draw the scalebar on.\n",
    "    length is the length of the scalebar in km.\n",
    "    location is center of the scalebar in axis coordinates.\n",
    "    (ie. 0.5 is the middle of the plot)\n",
    "    linewidth is the thickness of the scalebar.\n",
    "    \"\"\"\n",
    "    #Get the limits of the axis in lat long\n",
    "    llx0, llx1, lly0, lly1 = ax.get_extent(ccrs.PlateCarree())\n",
    "    #Make tmc horizontally centred on the middle of the map,\n",
    "    #vertically at scale bar location\n",
    "    sbllx = (llx1 + llx0) / 2\n",
    "    sblly = lly0 + (lly1 - lly0) * location[1]\n",
    "    tmc = ccrs.TransverseMercator(sbllx, sblly)\n",
    "    #Get the extent of the plotted area in coordinates in metres\n",
    "    x0, x1, y0, y1 = ax.get_extent(tmc)\n",
    "    #Turn the specified scalebar location into coordinates in metres\n",
    "    sbx = x0 + (x1 - x0) * location[0]\n",
    "    sby = y0 + (y1 - y0) * location[1]\n",
    "\n",
    "    #Calculate a scale bar length if none has been given\n",
    "    #(Theres probably a more pythonic way of rounding the number but this works)\n",
    "    if not length: \n",
    "        length = (x1 - x0) / 5000 #in km\n",
    "        ndim = int(np.floor(np.log10(length))) #number of digits in number\n",
    "        length = round(length, -ndim) #round to 1sf\n",
    "        #Returns numbers starting with the list\n",
    "        def scale_number(x):\n",
    "            if str(x)[0] in ['1', '2', '5']: return int(x)        \n",
    "            else: return scale_number(x - 10 ** ndim)\n",
    "        length = scale_number(length) \n",
    "\n",
    "    #Generate the x coordinate for the ends of the scalebar\n",
    "    bar_xs = [sbx - length * 500, sbx + length * 500]\n",
    "    #Plot the scalebar\n",
    "    ax.plot(bar_xs, [sby, sby], transform=tmc, color='k', linewidth=linewidth)\n",
    "    #Plot the scalebar label\n",
    "    ax.text(sbx, sby, str(length) + ' km', transform=tmc,\n",
    "            horizontalalignment='center', verticalalignment='bottom')"
   ]
  },
  {
   "cell_type": "code",
   "execution_count": 4,
   "metadata": {},
   "outputs": [],
   "source": [
    "municipios = geopandas.read_file('municipios/Municipios_IBGE.shp')"
   ]
  },
  {
   "cell_type": "code",
   "execution_count": 5,
   "metadata": {},
   "outputs": [],
   "source": [
    "brasil = geopandas.read_file('Brasil/UFEBRASIL.shp')"
   ]
  },
  {
   "cell_type": "code",
   "execution_count": 6,
   "metadata": {},
   "outputs": [],
   "source": [
    "rs = brasil[brasil['NM_ESTADO'] == 'RIO GRANDE DO SUL']"
   ]
  },
  {
   "cell_type": "code",
   "execution_count": 7,
   "metadata": {},
   "outputs": [],
   "source": [
    "#rs"
   ]
  },
  {
   "cell_type": "code",
   "execution_count": 8,
   "metadata": {},
   "outputs": [],
   "source": [
    "municipios.crs = \"EPSG:4326\""
   ]
  },
  {
   "cell_type": "code",
   "execution_count": 9,
   "metadata": {},
   "outputs": [],
   "source": [
    "lista_municipio = ['Caxias do Sul', 'Santa Maria', 'Porto Alegre', 'Pelotas']\n",
    "def plot_municipios(municipios, lista_municipio, ax, c='black', delta=0.05):\n",
    "    x = []\n",
    "    y = []\n",
    "    for index, row in municipios.iterrows():\n",
    "        for m in lista_municipio:\n",
    "            if row['NOME'] == m.upper():\n",
    "                y.append(row['LATITUDESE'])\n",
    "                x.append(row['LONGITUDES'])\n",
    "    ax.scatter(x=x, y=y, marker='x', c=c)\n",
    "    for i, txt in enumerate(lista_municipio[::-1]):\n",
    "        ax.annotate(txt, (x[i]+delta, y[i]+delta), c=c)"
   ]
  },
  {
   "cell_type": "code",
   "execution_count": 10,
   "metadata": {},
   "outputs": [],
   "source": [
    "ucs = geopandas.read_file(\"ucs/ucstodas.shp\")\n",
    "ucs.crs = \"EPSG:4326\""
   ]
  },
  {
   "cell_type": "code",
   "execution_count": 11,
   "metadata": {},
   "outputs": [],
   "source": [
    "#ucs.head()"
   ]
  },
  {
   "cell_type": "code",
   "execution_count": 12,
   "metadata": {},
   "outputs": [],
   "source": [
    "ti = geopandas.read_file(\"ti_sirgas/ti_sirgasPolygon.shp\")\n",
    "ti.crs = \"EPSG:32662\"\n",
    "ti = ti[ti['uf_sigla'] == 'RS']"
   ]
  },
  {
   "cell_type": "code",
   "execution_count": 13,
   "metadata": {},
   "outputs": [],
   "source": [
    "#ti.head()"
   ]
  },
  {
   "cell_type": "code",
   "execution_count": 14,
   "metadata": {},
   "outputs": [],
   "source": [
    "fl = geopandas.read_file(\"florestas/florestaspublicas.shp\")\n",
    "fl.crs = \"EPSG:32662\""
   ]
  },
  {
   "cell_type": "code",
   "execution_count": 15,
   "metadata": {},
   "outputs": [],
   "source": [
    "#fl.head()"
   ]
  },
  {
   "cell_type": "code",
   "execution_count": 16,
   "metadata": {},
   "outputs": [],
   "source": [
    "sigmine = geopandas.read_file(\"RS/RS.shp\")\n",
    "sigmine.crs = \"EPSG:4326\"\n",
    "sigmine['ANM'] = 'ANM'"
   ]
  },
  {
   "cell_type": "code",
   "execution_count": 17,
   "metadata": {},
   "outputs": [],
   "source": [
    "#filtro_req1 = sigmine['FASE'] != 'REQUERIMENTO DE PESQUISA'\n",
    "#filtro_req2 = sigmine['FASE'] != 'REQUERIMENTO DE LICENCIAMENTO'\n",
    "#filtro_req3 = sigmine['FASE'] != 'REQUERIMENTO DE LAVRA GARIMPEIRA'\n",
    "#filtro_req4 = sigmine['FASE'] != 'REQUERIMENTO DE REGISTRO DE EXTRAÇÃO'\n",
    "\n",
    "#sigmine = sigmine[filtro_req1 & filtro_req2 & filtro_req3 & filtro_req4]"
   ]
  },
  {
   "cell_type": "code",
   "execution_count": 24,
   "metadata": {},
   "outputs": [
    {
     "data": {
      "image/png": "[encoded data removed]",
      "text/plain": [
       "<Figure size 864x864 with 1 Axes>"
      ]
     },
     "metadata": {
      "needs_background": "light"
     },
     "output_type": "display_data"
    }
   ],
   "source": [
    "fig, ax = plt.subplots(figsize=(12,12), subplot_kw={'projection': ccrs.Mercator()})\n",
    "\n",
    "municipios.plot(ax=ax, color='gainsboro', edgecolor='silver')\n",
    "\n",
    "areas_amb = [ucs, ti, fl]\n",
    "areas_amb = [ti]\n",
    "\n",
    "\n",
    "for a in areas_amb:\n",
    "    for idx, row in a.iterrows():\n",
    "        p = row['geometry'].centroid\n",
    "        if rs.iloc[0]['geometry'].contains(p):\n",
    "             a.buffer(0.05, resolution=1).plot(ax=ax, color='seagreen')\n",
    "             a.plot(ax=ax, color='green')\n",
    "\n",
    "plt.scatter(rs.iloc[0]['geometry'].centroid.x, rs.iloc[0]['geometry'].centroid.y, color='green', label='Áreas ambientais', alpha=0, marker=\"s\")\n",
    "plt.scatter(rs.iloc[0]['geometry'].centroid.x, rs.iloc[0]['geometry'].centroid.y, color='seagreen', label='Buffer 5km', alpha=0, marker=\"s\")\n",
    "\n",
    "\n",
    "lgd1 = plt.legend(bbox_to_anchor=(1.06, 1), edgecolor = 'white', fontsize='14', title='ÁREAS:', title_fontsize='14', loc='upper left')\n",
    "for handle in lgd1.legendHandles:\n",
    "    handle.set_alpha(1.0)\n",
    "            \n",
    "scale_bar(ax, 100, location=(0.5,0.01))\n",
    "\n",
    "gl = ax.gridlines(crs=ccrs.PlateCarree(), draw_labels=True, linewidth=1, color='gray', alpha=0.5, linestyle='--')\n",
    "\n",
    "x, y, arrow_length = 0.04, 0.12, 0.1\n",
    "ax.annotate('N', xy=(x, y), xytext=(x, y-arrow_length),\n",
    "arrowprops=dict(facecolor='black', width=5, headwidth=15),\n",
    "ha='center', va='center', fontsize=12,\n",
    "xycoords=ax.transAxes)\n",
    "\n",
    "plot_municipios(municipios, lista_municipio, ax, c='black', delta=0.05)\n",
    "\n",
    "ax.set_title('ZONEAMENTO AMBIENTAL E ECONÔMICO', loc='center', fontsize='14')\n",
    "\n",
    "plt.savefig(\"imagens/ambiental.png\", bbox_inches='tight', facecolor='white', dpi = 300, bbox_extra_artists=([ax]))"
   ]
  },
  {
   "cell_type": "code",
   "execution_count": null,
   "metadata": {},
   "outputs": [],
   "source": []
  }
 ],
 "metadata": {
  "kernelspec": {
   "display_name": "Python 3",
   "language": "python",
   "name": "python3"
  },
  "language_info": {
   "codemirror_mode": {
    "name": "ipython",
    "version": 3
   },
   "file_extension": ".py",
   "mimetype": "text/x-python",
   "name": "python",
   "nbconvert_exporter": "python",
   "pygments_lexer": "ipython3",
   "version": "3.7.6"
  }
 },
 "nbformat": 4,
 "nbformat_minor": 4
}
