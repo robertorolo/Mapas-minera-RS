{
 "cells": [
  {
   "cell_type": "code",
   "execution_count": null,
   "metadata": {
    "id": "jssVStTpwQsj"
   },
   "outputs": [],
   "source": [
    "import matplotlib.pyplot as plt\n",
    "import geopandas\n",
    "import numpy as np"
   ]
  },
  {
   "cell_type": "code",
   "execution_count": null,
   "metadata": {
    "id": "pHkKEC7VwQsr"
   },
   "outputs": [],
   "source": [
    "import warnings\n",
    "warnings.filterwarnings('ignore')"
   ]
  },
  {
   "cell_type": "code",
   "execution_count": null,
   "metadata": {
    "id": "MkhzCH9_wQsv"
   },
   "outputs": [],
   "source": [
    "import cartopy.crs as ccrs\n",
    "import numpy as np\n",
    "\n",
    "def scale_bar(ax, length=None, location=(0.5, 0.05), linewidth=3):\n",
    "    \"\"\"\n",
    "    ax is the axes to draw the scalebar on.\n",
    "    length is the length of the scalebar in km.\n",
    "    location is center of the scalebar in axis coordinates.\n",
    "    (ie. 0.5 is the middle of the plot)\n",
    "    linewidth is the thickness of the scalebar.\n",
    "    \"\"\"\n",
    "    #Get the limits of the axis in lat long\n",
    "    llx0, llx1, lly0, lly1 = ax.get_extent(ccrs.PlateCarree())\n",
    "    #Make tmc horizontally centred on the middle of the map,\n",
    "    #vertically at scale bar location\n",
    "    sbllx = (llx1 + llx0) / 2\n",
    "    sblly = lly0 + (lly1 - lly0) * location[1]\n",
    "    tmc = ccrs.TransverseMercator(sbllx, sblly)\n",
    "    #Get the extent of the plotted area in coordinates in metres\n",
    "    x0, x1, y0, y1 = ax.get_extent(tmc)\n",
    "    #Turn the specified scalebar location into coordinates in metres\n",
    "    sbx = x0 + (x1 - x0) * location[0]\n",
    "    sby = y0 + (y1 - y0) * location[1]\n",
    "\n",
    "    #Calculate a scale bar length if none has been given\n",
    "    #(Theres probably a more pythonic way of rounding the number but this works)\n",
    "    if not length: \n",
    "        length = (x1 - x0) / 5000 #in km\n",
    "        ndim = int(np.floor(np.log10(length))) #number of digits in number\n",
    "        length = round(length, -ndim) #round to 1sf\n",
    "        #Returns numbers starting with the list\n",
    "        def scale_number(x):\n",
    "            if str(x)[0] in ['1', '2', '5']: return int(x)        \n",
    "            else: return scale_number(x - 10 ** ndim)\n",
    "        length = scale_number(length) \n",
    "\n",
    "    #Generate the x coordinate for the ends of the scalebar\n",
    "    bar_xs = [sbx - length * 500, sbx + length * 500]\n",
    "    #Plot the scalebar\n",
    "    ax.plot(bar_xs, [sby, sby], transform=tmc, color='k', linewidth=linewidth)\n",
    "    #Plot the scalebar label\n",
    "    ax.text(sbx, sby, str(length) + ' km', transform=tmc,\n",
    "            horizontalalignment='center', verticalalignment='bottom')"
   ]
  },
  {
   "cell_type": "code",
   "execution_count": null,
   "metadata": {
    "id": "nD9eV91YwQsw"
   },
   "outputs": [],
   "source": [
    "corede = geopandas.read_file(\"deps/corede_rs/corede_rs_4326_20081125_1033.shp\")\n",
    "corede.crs = \"EPSG:4326\""
   ]
  },
  {
   "cell_type": "code",
   "execution_count": null,
   "metadata": {
    "id": "1mBXCB-MwQsw",
    "outputId": "706ddb15-6a9c-4273-bb72-11046a9eec19"
   },
   "outputs": [],
   "source": [
    "corede.crs"
   ]
  },
  {
   "cell_type": "code",
   "execution_count": null,
   "metadata": {
    "id": "tCt8whjVwQsy"
   },
   "outputs": [],
   "source": [
    "ucs = geopandas.read_file(\"deps/ucs/ucstodas.shp\")\n",
    "ucs.crs = \"EPSG:4326\""
   ]
  },
  {
   "cell_type": "code",
   "execution_count": null,
   "metadata": {
    "id": "lhW5CiXEwQsy",
    "outputId": "7a340758-a078-4234-dbbb-ab85b031dede"
   },
   "outputs": [],
   "source": [
    "ucs.crs"
   ]
  },
  {
   "cell_type": "code",
   "execution_count": null,
   "metadata": {
    "id": "75K0uoIdwQsz"
   },
   "outputs": [],
   "source": [
    "ucs_cat = np.unique(ucs['CATEGORI3'])"
   ]
  },
  {
   "cell_type": "code",
   "execution_count": null,
   "metadata": {
    "id": "XsLVlI64wQsz"
   },
   "outputs": [],
   "source": [
    "uc_mun = geopandas.read_file(\"deps/uc_munip/Limites_UCs_Municipais_RS-polygon.shp\")\n",
    "uc_mun.crs = \"EPSG:4326\""
   ]
  },
  {
   "cell_type": "code",
   "execution_count": null,
   "metadata": {
    "id": "avgvke_HwQsz"
   },
   "outputs": [],
   "source": [
    "uc_mun_dic = {\n",
    "    'APA':'Área de Proteção Ambiental',\n",
    "    'ARIE':'Área de Relevante Interesse Ecológico',\n",
    "    'MoNa':'Monumento Natural',\n",
    "    'PNM':'Parque',\n",
    "    'REBIO':'Reserva Biológica',\n",
    "    'Rebio':'Reserva Biológica',\n",
    "    'RVS':'Refúgio de Vida Silvestre',\n",
    "}\n",
    "\n",
    "uc_mun['tipo'] = 'N/D'\n",
    "for idx, row in uc_mun.iterrows():\n",
    "    cod = row['Name'].split()[0]\n",
    "    for i in uc_mun_dic:\n",
    "        if cod == i:\n",
    "            uc_mun.loc[idx, 'tipo'] = uc_mun_dic[i]"
   ]
  },
  {
   "cell_type": "code",
   "execution_count": null,
   "metadata": {
    "id": "AogkfdZ2wQs0"
   },
   "outputs": [],
   "source": [
    "ti = geopandas.read_file(\"deps/ti_sirgas/ti_sirgasPolygon.shp\")\n",
    "ti.crs = \"EPSG:4326\""
   ]
  },
  {
   "cell_type": "code",
   "execution_count": null,
   "metadata": {
    "id": "-b9_ZMf8wQs0",
    "outputId": "7ca4fe96-10bf-427a-84f5-3d19d5f37aa7"
   },
   "outputs": [],
   "source": [
    "ti.crs"
   ]
  },
  {
   "cell_type": "code",
   "execution_count": null,
   "metadata": {
    "id": "6LPLCPgewQs0"
   },
   "outputs": [],
   "source": [
    "qui = geopandas.read_file(\"deps/Áreas de Quilombolas_RS/Áreas de Quilombolas_RS.shp\")\n",
    "qui.crs = \"EPSG:4326\""
   ]
  },
  {
   "cell_type": "code",
   "execution_count": null,
   "metadata": {
    "id": "vpQCJ-dfwQs1"
   },
   "outputs": [],
   "source": [
    "ass = geopandas.read_file(\"deps/Assentamento Brasil_RS/Assentamento Brasil_RS.shp\")\n",
    "ass.crs = \"EPSG:4326\""
   ]
  },
  {
   "cell_type": "code",
   "execution_count": null,
   "metadata": {
    "id": "4RxO_0CkwQs1"
   },
   "outputs": [],
   "source": [
    "fl = geopandas.read_file(\"deps/florestas/florestaspublicas.shp\")\n",
    "fl.crs = \"EPSG:4326\""
   ]
  },
  {
   "cell_type": "code",
   "execution_count": null,
   "metadata": {
    "id": "x678A9ZMwQs1",
    "outputId": "324d812a-fe39-42c3-f5be-09d58cd81818"
   },
   "outputs": [],
   "source": [
    "fl.crs"
   ]
  },
  {
   "cell_type": "code",
   "execution_count": null,
   "metadata": {
    "id": "tANSQ-nmwQs2"
   },
   "outputs": [],
   "source": [
    "sigmine = geopandas.read_file(\"deps/RS/RS.shp\")\n",
    "sigmine.crs = \"EPSG:4326\"\n",
    "sigmine['ANM'] = 'ANM'"
   ]
  },
  {
   "cell_type": "code",
   "execution_count": null,
   "metadata": {
    "id": "vp51T3uywQs2"
   },
   "outputs": [],
   "source": [
    "#filtro_req1 = sigmine['FASE'] != 'REQUERIMENTO DE PESQUISA'\n",
    "#filtro_req2 = sigmine['FASE'] != 'REQUERIMENTO DE LICENCIAMENTO'\n",
    "#filtro_req3 = sigmine['FASE'] != 'REQUERIMENTO DE LAVRA GARIMPEIRA'\n",
    "#filtro_req4 = sigmine['FASE'] != 'REQUERIMENTO DE REGISTRO DE EXTRAÇÃO'\n",
    "\n",
    "#sigmine = sigmine[filtro_req1 & filtro_req2 & filtro_req3 & filtro_req4]"
   ]
  },
  {
   "cell_type": "code",
   "execution_count": null,
   "metadata": {
    "id": "y4nrTs19wQs2"
   },
   "outputs": [],
   "source": [
    "municipios = geopandas.read_file(\"deps/municipios/Municipios_IBGE.shp\")"
   ]
  },
  {
   "cell_type": "code",
   "execution_count": null,
   "metadata": {
    "id": "MHc175SIwQs3",
    "outputId": "f6cc54a1-f784-4beb-8f65-d176ee00608c"
   },
   "outputs": [],
   "source": [
    "from mpl_toolkits.axes_grid1 import make_axes_locatable\n",
    "from mpl_toolkits.axes_grid1.inset_locator import inset_axes\n",
    "import matplotlib.patches as mpatches\n",
    "\n",
    "colors = ['#e6194b', '#3cb44b', '#ffe119', '#4363d8', '#f58231', '#911eb4', '#46f0f0', '#f032e6', '#bcf60c', '#fabebe', '#008080', '#e6beff', '#9a6324', '#fffac8', '#800000', '#aaffc3', '#808000', '#ffd8b1', '#000075', '#808080', '#ffffff', '#000000']\n",
    "\n",
    "for idx, row in corede.iterrows():\n",
    "    hand = []\n",
    "    \n",
    "    nome_cored = row['COREDE']\n",
    "    \n",
    "    fig, ax = plt.subplots(figsize=(12,12), subplot_kw={'projection': ccrs.PlateCarree()})\n",
    "    ax.axis('equal')\n",
    "    \n",
    "    corede.iloc[[idx]].plot(ax=ax, color='gainsboro', edgecolor='silver')\n",
    "    \n",
    "    #sigmine\n",
    "    sig_i = False\n",
    "    for sidx, srow in sigmine.iterrows():\n",
    "        i = srow['geometry'].centroid\n",
    "        if row['geometry'].contains(i):\n",
    "            sig_i = True\n",
    "            sigmine.iloc[[sidx]].plot(ax=ax, color='gray')\n",
    "     \n",
    "    if sig_i == True:\n",
    "        h = mpatches.Patch(facecolor='gray',label='Áreas ANM')\n",
    "        hand.append(h)\n",
    "        \n",
    "    '''#sigmine dispoibilidade\n",
    "    sigmined = sigmine[sigmine['FASE']=='DISPONIBILIDADE'].reset_index()\n",
    "    sig_d = False\n",
    "    for sidd, srowd in sigmined.iterrows():\n",
    "        i = srowd['geometry'].centroid\n",
    "        if row['geometry'].contains(i):\n",
    "            sig_d = True\n",
    "            sigmined.iloc[[sidd]].plot(ax=ax, color='blue')\n",
    "     \n",
    "    if sig_d == True:\n",
    "        h = mpatches.Patch(facecolor='blue',label='Áreas ANM disponíveis')\n",
    "        hand.append(h)'''\n",
    "            \n",
    "    cc = 0\n",
    "    #terras indigenas\n",
    "    ti_i = False\n",
    "    for sidx, srow in ti.iterrows():\n",
    "        i = srow['geometry'].centroid\n",
    "        if row['geometry'].contains(i):\n",
    "            ti_i = True\n",
    "            ti.iloc[[sidx]].plot(ax=ax, color=colors[cc])\n",
    "    \n",
    "    if ti_i == True:\n",
    "        h = mpatches.Patch(facecolor=colors[cc],label='Terras indígenas')\n",
    "        hand.append(h)\n",
    "        cc = cc + 1\n",
    "        \n",
    "    #quilombos\n",
    "    qui_i = False\n",
    "    for sidx, srow in qui.iterrows():\n",
    "        i = srow['geometry'].centroid\n",
    "        if row['geometry'].contains(i):\n",
    "            qui_i = True\n",
    "            qui.iloc[[sidx]].plot(ax=ax, color=colors[cc])\n",
    "    \n",
    "    if qui_i == True:\n",
    "        h = mpatches.Patch(facecolor=colors[cc],label='Quilombos')\n",
    "        hand.append(h)\n",
    "        cc = cc + 1\n",
    "        \n",
    "    #assentamentos\n",
    "    ass_i = False\n",
    "    for sidx, srow in ass.iterrows():\n",
    "        i = srow['geometry'].centroid\n",
    "        if row['geometry'].contains(i):\n",
    "            ass_i = True\n",
    "            ass.iloc[[sidx]].plot(ax=ax, color=colors[cc])\n",
    "    \n",
    "    if ass_i == True:\n",
    "        h = mpatches.Patch(facecolor=colors[cc], label='Assentamentos')\n",
    "        hand.append(h)\n",
    "        cc = cc + 1\n",
    "        \n",
    "    #grupos\n",
    "    for c in ucs_cat:\n",
    "        \n",
    "        f = ucs['CATEGORI3'] == c\n",
    "        f1 = uc_mun['tipo'] == c\n",
    "        \n",
    "        uc_mun_plot = uc_mun[f1]\n",
    "        ucs_plot = ucs[f]\n",
    "        \n",
    "        ucs_i = False\n",
    "        for asidx, asrow in ucs_plot.iterrows():\n",
    "            i = asrow['geometry'].centroid\n",
    "            if row['geometry'].contains(i):\n",
    "                ucs_i = True\n",
    "                ucs_plot.loc[[asidx]].plot(ax=ax, color=colors[cc])\n",
    "         \n",
    "        ucs_mun_i = False\n",
    "        for bsidx, bsrow in uc_mun_plot.iterrows():\n",
    "            i = bsrow['geometry'].centroid\n",
    "            if row['geometry'].contains(i):\n",
    "                ucs_mun_i = True\n",
    "                uc_mun_plot.loc[[bsidx]].plot(ax=ax, color=colors[cc])\n",
    "    \n",
    "        if ucs_mun_i == True or ucs_i == True:\n",
    "            h = mpatches.Patch(facecolor=colors[cc],label=c)\n",
    "            hand.append(h)\n",
    "            cc = cc + 1\n",
    "        \n",
    "    lgd1 = plt.legend(handles = hand, bbox_to_anchor=(1.1, 1), edgecolor = 'white', fontsize='14', title='ÁREAS:', title_fontsize='14', loc='upper left')\n",
    "\n",
    "    #scale_bar(ax, length=10, location=(0.5, 0.05), linewidth=3)\n",
    "    \n",
    "    #x, y, arrow_length = 0.04, 0.12, 0.1\n",
    "    #ax.annotate('N', xy=(x, y), xytext=(x, y-arrow_length),\n",
    "    #arrowprops=dict(facecolor='black', width=5, headwidth=15), ha='center', va='center', fontsize=12, xycoords=ax.transAxes)\n",
    "    \n",
    "    gl = ax.gridlines(crs=ccrs.PlateCarree(), draw_labels=True, linewidth=1, color='gray', alpha=0.5, linestyle='--')\n",
    "    \n",
    "    ax_ins = inset_axes(ax, width=1.3, height=1.3, loc=4, borderpad=0.5)\n",
    "    ax_ins.axis('equal')\n",
    "    ax_ins.set_xticks([])\n",
    "    ax_ins.set_yticks([])\n",
    "    ax_ins.patch.set_alpha(0.5)\n",
    "    ax_ins.set_aspect('equal')\n",
    "    \n",
    "    corede.plot(ax=ax_ins, color='gainsboro', edgecolor='silver', linewidth=0.5)\n",
    "    corede.iloc[[idx]].plot(ax=ax_ins, color='grey')\n",
    "        \n",
    "    ax.set_title('Áreas - {}'.format(nome_cored).upper(), loc='center', fontsize='14')\n",
    "    plt.savefig('imagens/corede/'+nome_cored+\".png\", bbox_inches='tight', facecolor='white', dpi = 300)\n",
    "    plt.show()"
   ]
  },
  {
   "cell_type": "code",
   "execution_count": null,
   "metadata": {},
   "outputs": [],
   "source": []
  }
 ],
 "metadata": {
  "colab": {
   "name": "Mapas por cored.ipynb",
   "provenance": []
  },
  "interpreter": {
   "hash": "9399f1edee941ce6d581d697518bcb7a8bbdf1bfd633bd67bb4ebe0fc4c4c8f7"
  },
  "kernelspec": {
   "display_name": "Python 3.8.10 64-bit ('drh': conda)",
   "name": "python3"
  },
  "language_info": {
   "codemirror_mode": {
    "name": "ipython",
    "version": 3
   },
   "file_extension": ".py",
   "mimetype": "text/x-python",
   "name": "python",
   "nbconvert_exporter": "python",
   "pygments_lexer": "ipython3",
   "version": "3.8.11"
  }
 },
 "nbformat": 4,
 "nbformat_minor": 1
}
