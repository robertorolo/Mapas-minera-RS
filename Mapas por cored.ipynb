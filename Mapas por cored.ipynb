{
 "cells": [
  {
   "cell_type": "code",
   "execution_count": null,
   "source": [
    "import matplotlib.pyplot as plt\r\n",
    "import geopandas\r\n",
    "import numpy as np"
   ],
   "outputs": [],
   "metadata": {
    "id": "jssVStTpwQsj"
   }
  },
  {
   "cell_type": "code",
   "execution_count": null,
   "source": [
    "import warnings\r\n",
    "warnings.filterwarnings('ignore')"
   ],
   "outputs": [],
   "metadata": {
    "id": "pHkKEC7VwQsr"
   }
  },
  {
   "cell_type": "code",
   "execution_count": null,
   "source": [
    "import cartopy.crs as ccrs\r\n",
    "import numpy as np\r\n",
    "\r\n",
    "def scale_bar(ax, length=None, location=(0.5, 0.05), linewidth=3):\r\n",
    "    \"\"\"\r\n",
    "    ax is the axes to draw the scalebar on.\r\n",
    "    length is the length of the scalebar in km.\r\n",
    "    location is center of the scalebar in axis coordinates.\r\n",
    "    (ie. 0.5 is the middle of the plot)\r\n",
    "    linewidth is the thickness of the scalebar.\r\n",
    "    \"\"\"\r\n",
    "    #Get the limits of the axis in lat long\r\n",
    "    llx0, llx1, lly0, lly1 = ax.get_extent(ccrs.PlateCarree())\r\n",
    "    #Make tmc horizontally centred on the middle of the map,\r\n",
    "    #vertically at scale bar location\r\n",
    "    sbllx = (llx1 + llx0) / 2\r\n",
    "    sblly = lly0 + (lly1 - lly0) * location[1]\r\n",
    "    tmc = ccrs.TransverseMercator(sbllx, sblly)\r\n",
    "    #Get the extent of the plotted area in coordinates in metres\r\n",
    "    x0, x1, y0, y1 = ax.get_extent(tmc)\r\n",
    "    #Turn the specified scalebar location into coordinates in metres\r\n",
    "    sbx = x0 + (x1 - x0) * location[0]\r\n",
    "    sby = y0 + (y1 - y0) * location[1]\r\n",
    "\r\n",
    "    #Calculate a scale bar length if none has been given\r\n",
    "    #(Theres probably a more pythonic way of rounding the number but this works)\r\n",
    "    if not length: \r\n",
    "        length = (x1 - x0) / 5000 #in km\r\n",
    "        ndim = int(np.floor(np.log10(length))) #number of digits in number\r\n",
    "        length = round(length, -ndim) #round to 1sf\r\n",
    "        #Returns numbers starting with the list\r\n",
    "        def scale_number(x):\r\n",
    "            if str(x)[0] in ['1', '2', '5']: return int(x)        \r\n",
    "            else: return scale_number(x - 10 ** ndim)\r\n",
    "        length = scale_number(length) \r\n",
    "\r\n",
    "    #Generate the x coordinate for the ends of the scalebar\r\n",
    "    bar_xs = [sbx - length * 500, sbx + length * 500]\r\n",
    "    #Plot the scalebar\r\n",
    "    ax.plot(bar_xs, [sby, sby], transform=tmc, color='k', linewidth=linewidth)\r\n",
    "    #Plot the scalebar label\r\n",
    "    ax.text(sbx, sby, str(length) + ' km', transform=tmc,\r\n",
    "            horizontalalignment='center', verticalalignment='bottom')"
   ],
   "outputs": [],
   "metadata": {
    "id": "MkhzCH9_wQsv"
   }
  },
  {
   "cell_type": "code",
   "execution_count": null,
   "source": [
    "corede = geopandas.read_file(\"deps/corede_rs/corede_rs_4326_20081125_1033.shp\")\r\n",
    "corede.crs = \"EPSG:4326\""
   ],
   "outputs": [],
   "metadata": {
    "id": "nD9eV91YwQsw"
   }
  },
  {
   "cell_type": "code",
   "execution_count": null,
   "source": [
    "corede.crs"
   ],
   "outputs": [],
   "metadata": {
    "id": "1mBXCB-MwQsw",
    "outputId": "706ddb15-6a9c-4273-bb72-11046a9eec19"
   }
  },
  {
   "cell_type": "code",
   "execution_count": null,
   "source": [
    "ucs = geopandas.read_file(\"deps/ucs/ucstodas.shp\")\r\n",
    "ucs.crs = \"EPSG:4326\""
   ],
   "outputs": [],
   "metadata": {
    "id": "tCt8whjVwQsy"
   }
  },
  {
   "cell_type": "code",
   "execution_count": null,
   "source": [
    "ucs.crs"
   ],
   "outputs": [],
   "metadata": {
    "id": "lhW5CiXEwQsy",
    "outputId": "7a340758-a078-4234-dbbb-ab85b031dede"
   }
  },
  {
   "cell_type": "code",
   "execution_count": null,
   "source": [
    "ucs_cat = np.unique(ucs['CATEGORI3'])"
   ],
   "outputs": [],
   "metadata": {
    "id": "75K0uoIdwQsz"
   }
  },
  {
   "cell_type": "code",
   "execution_count": null,
   "source": [
    "uc_mun = geopandas.read_file(\"deps/uc_munip/Limites_UCs_Municipais_RS-polygon.shp\")\r\n",
    "uc_mun.crs = \"EPSG:4326\""
   ],
   "outputs": [],
   "metadata": {
    "id": "XsLVlI64wQsz"
   }
  },
  {
   "cell_type": "code",
   "execution_count": null,
   "source": [
    "uc_mun_dic = {\r\n",
    "    'APA':'Área de Proteção Ambiental',\r\n",
    "    'ARIE':'Área de Relevante Interesse Ecológico',\r\n",
    "    'MoNa':'Monumento Natural',\r\n",
    "    'PNM':'Parque',\r\n",
    "    'REBIO':'Reserva Biológica',\r\n",
    "    'Rebio':'Reserva Biológica',\r\n",
    "    'RVS':'Refúgio de Vida Silvestre',\r\n",
    "}\r\n",
    "\r\n",
    "uc_mun['tipo'] = 'N/D'\r\n",
    "for idx, row in uc_mun.iterrows():\r\n",
    "    cod = row['Name'].split()[0]\r\n",
    "    for i in uc_mun_dic:\r\n",
    "        if cod == i:\r\n",
    "            uc_mun.loc[idx, 'tipo'] = uc_mun_dic[i]"
   ],
   "outputs": [],
   "metadata": {
    "id": "avgvke_HwQsz"
   }
  },
  {
   "cell_type": "code",
   "execution_count": null,
   "source": [
    "ti = geopandas.read_file(\"deps/ti_sirgas/ti_sirgasPolygon.shp\")\r\n",
    "ti.crs = \"EPSG:4326\""
   ],
   "outputs": [],
   "metadata": {
    "id": "AogkfdZ2wQs0"
   }
  },
  {
   "cell_type": "code",
   "execution_count": null,
   "source": [
    "ti.crs"
   ],
   "outputs": [],
   "metadata": {
    "id": "-b9_ZMf8wQs0",
    "outputId": "7ca4fe96-10bf-427a-84f5-3d19d5f37aa7"
   }
  },
  {
   "cell_type": "code",
   "execution_count": null,
   "source": [
    "qui = geopandas.read_file(\"deps/Áreas de Quilombolas_RS/Áreas de Quilombolas_RS.shp\")\r\n",
    "qui.crs = \"EPSG:4326\""
   ],
   "outputs": [],
   "metadata": {
    "id": "6LPLCPgewQs0"
   }
  },
  {
   "cell_type": "code",
   "execution_count": null,
   "source": [
    "ass = geopandas.read_file(\"deps/Assentamento Brasil_RS/Assentamento Brasil_RS.shp\")\r\n",
    "ass.crs = \"EPSG:4326\""
   ],
   "outputs": [],
   "metadata": {
    "id": "vpQCJ-dfwQs1"
   }
  },
  {
   "cell_type": "code",
   "execution_count": null,
   "source": [
    "fl = geopandas.read_file(\"deps/florestas/florestaspublicas.shp\")\r\n",
    "fl.crs = \"EPSG:4326\""
   ],
   "outputs": [],
   "metadata": {
    "id": "4RxO_0CkwQs1"
   }
  },
  {
   "cell_type": "code",
   "execution_count": null,
   "source": [
    "fl.crs"
   ],
   "outputs": [],
   "metadata": {
    "id": "x678A9ZMwQs1",
    "outputId": "324d812a-fe39-42c3-f5be-09d58cd81818"
   }
  },
  {
   "cell_type": "code",
   "execution_count": null,
   "source": [
    "sigmine = geopandas.read_file(\"deps/RS/RS.shp\")\r\n",
    "sigmine.crs = \"EPSG:4326\"\r\n",
    "sigmine['ANM'] = 'ANM'"
   ],
   "outputs": [],
   "metadata": {
    "id": "tANSQ-nmwQs2"
   }
  },
  {
   "cell_type": "code",
   "execution_count": null,
   "source": [
    "np.unique(sigmine['FASE'])"
   ],
   "outputs": [],
   "metadata": {
    "id": "Q_5hD68vwQs2",
    "outputId": "1ec04856-e952-4332-ba5c-ca544bc87044"
   }
  },
  {
   "cell_type": "code",
   "execution_count": null,
   "source": [
    "#filtro_req1 = sigmine['FASE'] != 'REQUERIMENTO DE PESQUISA'\r\n",
    "#filtro_req2 = sigmine['FASE'] != 'REQUERIMENTO DE LICENCIAMENTO'\r\n",
    "#filtro_req3 = sigmine['FASE'] != 'REQUERIMENTO DE LAVRA GARIMPEIRA'\r\n",
    "#filtro_req4 = sigmine['FASE'] != 'REQUERIMENTO DE REGISTRO DE EXTRAÇÃO'\r\n",
    "\r\n",
    "#sigmine = sigmine[filtro_req1 & filtro_req2 & filtro_req3 & filtro_req4]"
   ],
   "outputs": [],
   "metadata": {
    "id": "vp51T3uywQs2"
   }
  },
  {
   "cell_type": "code",
   "execution_count": null,
   "source": [
    "municipios = geopandas.read_file(\"deps/municipios/Municipios_IBGE.shp\")"
   ],
   "outputs": [],
   "metadata": {
    "id": "y4nrTs19wQs2"
   }
  },
  {
   "cell_type": "code",
   "execution_count": null,
   "source": [
    "from mpl_toolkits.axes_grid1 import make_axes_locatable\r\n",
    "from mpl_toolkits.axes_grid1.inset_locator import inset_axes\r\n",
    "import matplotlib.patches as mpatches\r\n",
    "\r\n",
    "colors = ['#e6194b', '#3cb44b', '#ffe119', '#4363d8', '#f58231', '#911eb4', '#46f0f0', '#f032e6', '#bcf60c', '#fabebe', '#008080', '#e6beff', '#9a6324', '#fffac8', '#800000', '#aaffc3', '#808000', '#ffd8b1', '#000075', '#808080', '#ffffff', '#000000']\r\n",
    "\r\n",
    "for idx, row in corede.iterrows():\r\n",
    "    hand = []\r\n",
    "    \r\n",
    "    nome_cored = row['COREDE']\r\n",
    "    \r\n",
    "    fig, ax = plt.subplots(figsize=(12,12), subplot_kw={'projection': ccrs.PlateCarree()})\r\n",
    "    ax.axis('equal')\r\n",
    "    \r\n",
    "    corede.iloc[[idx]].plot(ax=ax, color='gainsboro', edgecolor='silver')\r\n",
    "    \r\n",
    "    #sigmine\r\n",
    "    sig_i = False\r\n",
    "    for sidx, srow in sigmine.iterrows():\r\n",
    "        i = srow['geometry'].centroid\r\n",
    "        if row['geometry'].contains(i):\r\n",
    "            sig_i = True\r\n",
    "            sigmine.iloc[[sidx]].plot(ax=ax, color='gray')\r\n",
    "     \r\n",
    "    if sig_i == True:\r\n",
    "        h = mpatches.Patch(facecolor='gray',label='Áreas ANM')\r\n",
    "        hand.append(h)\r\n",
    "        \r\n",
    "    '''#sigmine dispoibilidade\r\n",
    "    sigmined = sigmine[sigmine['FASE']=='DISPONIBILIDADE'].reset_index()\r\n",
    "    sig_d = False\r\n",
    "    for sidd, srowd in sigmined.iterrows():\r\n",
    "        i = srowd['geometry'].centroid\r\n",
    "        if row['geometry'].contains(i):\r\n",
    "            sig_d = True\r\n",
    "            sigmined.iloc[[sidd]].plot(ax=ax, color='blue')\r\n",
    "     \r\n",
    "    if sig_d == True:\r\n",
    "        h = mpatches.Patch(facecolor='blue',label='Áreas ANM disponíveis')\r\n",
    "        hand.append(h)'''\r\n",
    "            \r\n",
    "    cc = 0\r\n",
    "    #terras indigenas\r\n",
    "    ti_i = False\r\n",
    "    for sidx, srow in ti.iterrows():\r\n",
    "        i = srow['geometry'].centroid\r\n",
    "        if row['geometry'].contains(i):\r\n",
    "            ti_i = True\r\n",
    "            ti.iloc[[sidx]].plot(ax=ax, color=colors[cc])\r\n",
    "    \r\n",
    "    if ti_i == True:\r\n",
    "        h = mpatches.Patch(facecolor=colors[cc],label='Terras indígenas')\r\n",
    "        hand.append(h)\r\n",
    "        cc = cc + 1\r\n",
    "        \r\n",
    "    #quilombos\r\n",
    "    qui_i = False\r\n",
    "    for sidx, srow in qui.iterrows():\r\n",
    "        i = srow['geometry'].centroid\r\n",
    "        if row['geometry'].contains(i):\r\n",
    "            qui_i = True\r\n",
    "            qui.iloc[[sidx]].plot(ax=ax, color=colors[cc])\r\n",
    "    \r\n",
    "    if qui_i == True:\r\n",
    "        h = mpatches.Patch(facecolor=colors[cc],label='Quilombos')\r\n",
    "        hand.append(h)\r\n",
    "        cc = cc + 1\r\n",
    "        \r\n",
    "    #assentamentos\r\n",
    "    ass_i = False\r\n",
    "    for sidx, srow in ass.iterrows():\r\n",
    "        i = srow['geometry'].centroid\r\n",
    "        if row['geometry'].contains(i):\r\n",
    "            ass_i = True\r\n",
    "            ass.iloc[[sidx]].plot(ax=ax, color=colors[cc])\r\n",
    "    \r\n",
    "    if ass_i == True:\r\n",
    "        h = mpatches.Patch(facecolor=colors[cc], label='Assentamentos')\r\n",
    "        hand.append(h)\r\n",
    "        cc = cc + 1\r\n",
    "        \r\n",
    "    #grupos\r\n",
    "    for c in ucs_cat:\r\n",
    "        \r\n",
    "        f = ucs['CATEGORI3'] == c\r\n",
    "        f1 = uc_mun['tipo'] == c\r\n",
    "        \r\n",
    "        uc_mun_plot = uc_mun[f1]\r\n",
    "        ucs_plot = ucs[f]\r\n",
    "        \r\n",
    "        ucs_i = False\r\n",
    "        for asidx, asrow in ucs_plot.iterrows():\r\n",
    "            i = asrow['geometry'].centroid\r\n",
    "            if row['geometry'].contains(i):\r\n",
    "                ucs_i = True\r\n",
    "                ucs_plot.loc[[asidx]].plot(ax=ax, color=colors[cc])\r\n",
    "         \r\n",
    "        ucs_mun_i = False\r\n",
    "        for bsidx, bsrow in uc_mun_plot.iterrows():\r\n",
    "            i = bsrow['geometry'].centroid\r\n",
    "            if row['geometry'].contains(i):\r\n",
    "                ucs_mun_i = True\r\n",
    "                uc_mun_plot.loc[[bsidx]].plot(ax=ax, color=colors[cc])\r\n",
    "    \r\n",
    "        if ucs_mun_i == True or ucs_i == True:\r\n",
    "            h = mpatches.Patch(facecolor=colors[cc],label=c)\r\n",
    "            hand.append(h)\r\n",
    "            cc = cc + 1\r\n",
    "        \r\n",
    "    lgd1 = plt.legend(handles = hand, bbox_to_anchor=(1.1, 1), edgecolor = 'white', fontsize='14', title='ÁREAS:', title_fontsize='14', loc='upper left')\r\n",
    "\r\n",
    "    #scale_bar(ax, length=10, location=(0.5, 0.05), linewidth=3)\r\n",
    "    \r\n",
    "    #x, y, arrow_length = 0.04, 0.12, 0.1\r\n",
    "    #ax.annotate('N', xy=(x, y), xytext=(x, y-arrow_length),\r\n",
    "    #arrowprops=dict(facecolor='black', width=5, headwidth=15), ha='center', va='center', fontsize=12, xycoords=ax.transAxes)\r\n",
    "    \r\n",
    "    gl = ax.gridlines(crs=ccrs.PlateCarree(), draw_labels=True, linewidth=1, color='gray', alpha=0.5, linestyle='--')\r\n",
    "    \r\n",
    "    ax_ins = inset_axes(ax, width=1.3, height=1.3, loc=4, borderpad=0.5)\r\n",
    "    ax_ins.axis('equal')\r\n",
    "    ax_ins.set_xticks([])\r\n",
    "    ax_ins.set_yticks([])\r\n",
    "    ax_ins.patch.set_alpha(0.5)\r\n",
    "    ax_ins.set_aspect('equal')\r\n",
    "    \r\n",
    "    corede.plot(ax=ax_ins, color='gainsboro', edgecolor='silver', linewidth=0.5)\r\n",
    "    corede.iloc[[idx]].plot(ax=ax_ins, color='grey')\r\n",
    "        \r\n",
    "    ax.set_title('Áreas - {}'.format(nome_cored).upper(), loc='center', fontsize='14')\r\n",
    "    plt.savefig('imagens/corede/'+nome_cored+\".png\", bbox_inches='tight', facecolor='white', dpi = 300)\r\n",
    "    plt.show()"
   ],
   "outputs": [],
   "metadata": {
    "id": "MHc175SIwQs3",
    "outputId": "f6cc54a1-f784-4beb-8f65-d176ee00608c"
   }
  },
  {
   "cell_type": "code",
   "execution_count": null,
   "source": [],
   "outputs": [],
   "metadata": {}
  }
 ],
 "metadata": {
  "colab": {
   "name": "Mapas por cored.ipynb",
   "provenance": []
  },
  "kernelspec": {
   "name": "python3",
   "display_name": "Python 3.8.10 64-bit ('drh': conda)"
  },
  "language_info": {
   "codemirror_mode": {
    "name": "ipython",
    "version": 3
   },
   "file_extension": ".py",
   "mimetype": "text/x-python",
   "name": "python",
   "nbconvert_exporter": "python",
   "pygments_lexer": "ipython3",
   "version": "3.8.10"
  },
  "interpreter": {
   "hash": "9399f1edee941ce6d581d697518bcb7a8bbdf1bfd633bd67bb4ebe0fc4c4c8f7"
  }
 },
 "nbformat": 4,
 "nbformat_minor": 1
}